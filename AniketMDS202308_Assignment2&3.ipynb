{
  "cells": [
    {
      "cell_type": "markdown",
      "metadata": {
        "id": "view-in-github",
        "colab_type": "text"
      },
      "source": [
        "<a href=\"https://colab.research.google.com/github/ani98622/NLP-assignments/blob/main/AniketMDS202308_Assignment2%263.ipynb\" target=\"_parent\"><img src=\"https://colab.research.google.com/assets/colab-badge.svg\" alt=\"Open In Colab\"/></a>"
      ]
    },
    {
      "cell_type": "markdown",
      "source": [
        "- Name : Aniket Tiwari\n",
        "- Roll No. MDS202308\n"
      ],
      "metadata": {
        "id": "IucL_uk44HUp"
      }
    },
    {
      "cell_type": "markdown",
      "source": [
        "### Assignment - 02\n"
      ],
      "metadata": {
        "id": "Z28n16Mb38ef"
      }
    },
    {
      "cell_type": "markdown",
      "source": [
        "- Importing Necessary Libraries"
      ],
      "metadata": {
        "id": "25_Zgfvz3wOG"
      }
    },
    {
      "cell_type": "code",
      "execution_count": null,
      "metadata": {
        "id": "puOaDF1jxdl4"
      },
      "outputs": [],
      "source": [
        "import numpy as np\n",
        "import pandas as pd\n",
        "import h5py\n",
        "import re\n",
        "import json\n",
        "import nltk\n",
        "from scipy.sparse import save_npz\n",
        "from scipy.sparse import csr_matrix\n",
        "from nltk import ngrams\n",
        "from tqdm import tqdm\n",
        "from nltk.corpus import stopwords\n",
        "from collections import Counter\n",
        "import matplotlib.pyplot as plt\n",
        "from sklearn.manifold import MDS"
      ]
    },
    {
      "cell_type": "code",
      "source": [
        "nltk.download('punkt')\n",
        "nltk.download('averaged_perceptron_tagger')"
      ],
      "metadata": {
        "collapsed": true,
        "colab": {
          "base_uri": "https://localhost:8080/"
        },
        "id": "s8MG0Qcp63dF",
        "outputId": "9b2e76f7-8d6c-45b8-f8d7-0d18c07ae19d"
      },
      "execution_count": null,
      "outputs": [
        {
          "output_type": "stream",
          "name": "stderr",
          "text": [
            "[nltk_data] Downloading package punkt to /root/nltk_data...\n",
            "[nltk_data]   Unzipping tokenizers/punkt.zip.\n",
            "[nltk_data] Downloading package averaged_perceptron_tagger to\n",
            "[nltk_data]     /root/nltk_data...\n",
            "[nltk_data]   Unzipping taggers/averaged_perceptron_tagger.zip.\n"
          ]
        },
        {
          "output_type": "execute_result",
          "data": {
            "text/plain": [
              "True"
            ]
          },
          "metadata": {},
          "execution_count": 24
        }
      ]
    },
    {
      "cell_type": "markdown",
      "source": [
        "- Extracting Vocabulary to choose most frequent 7000 words"
      ],
      "metadata": {
        "id": "oL6dEOL54UP4"
      }
    },
    {
      "cell_type": "code",
      "execution_count": null,
      "metadata": {
        "id": "CA9h8AIrxrdm"
      },
      "outputs": [],
      "source": [
        "def process_file(file_path):\n",
        "    word_counter = Counter()\n",
        "    with open(file_path, 'r', encoding='utf-8') as file:\n",
        "        for line in file:\n",
        "            line_words = line.strip().split()\n",
        "            word_counter.update(line_words)\n",
        "    return word_counter"
      ]
    },
    {
      "cell_type": "code",
      "source": [
        "file_path = '/content/drive/MyDrive/processed_words.txt'\n",
        "word_frequencies = process_file(file_path)"
      ],
      "metadata": {
        "id": "WybrkSY4aD4-"
      },
      "execution_count": null,
      "outputs": []
    },
    {
      "cell_type": "code",
      "source": [
        "vocabulary = word_frequencies.most_common(7000)\n",
        "vocab = [word for word, freq in vocabulary]\n",
        "\n",
        "print(f\"Total unique words: {len(word_frequencies)}\")\n",
        "print(f\"Size of vocabulary: {len(vocab)}\")\n",
        "print(f\"Most common words: {word_frequencies.most_common(10)}\")"
      ],
      "metadata": {
        "colab": {
          "base_uri": "https://localhost:8080/"
        },
        "id": "sdh9zGOHDPu0",
        "outputId": "a0bf34a1-8f4d-4c57-8237-ad5bb7a895e7"
      },
      "execution_count": null,
      "outputs": [
        {
          "output_type": "stream",
          "name": "stdout",
          "text": [
            "Total unique words: 7000\n",
            "Size of vocabulary: 7000\n",
            "Most common words(TOP 6): ['patients', 'cells', 'also', 'covid19', 'study', 'data']\n"
          ]
        }
      ]
    },
    {
      "cell_type": "markdown",
      "source": [
        "- Construction of co-occurrence_matrix"
      ],
      "metadata": {
        "id": "ntm88j4U5SuY"
      }
    },
    {
      "cell_type": "code",
      "execution_count": null,
      "metadata": {
        "id": "MuZaXiqf2Aw7"
      },
      "outputs": [],
      "source": [
        "from nltk import word_tokenize\n",
        "from tqdm import tqdm\n",
        "from scipy.sparse import dok_matrix\n",
        "from collections import defaultdict, Counter\n",
        "\n",
        "vocab_idx = {word: idx for idx, word in enumerate(vocab)}\n",
        "\n",
        "def co_occurrences(file_path):\n",
        "    window_size = 4\n",
        "    ramp = [0] + list(range(window_size, 0, -1))   # ramp = [0,4,3,2,1]\n",
        "    occurrences_tracker = defaultdict(lambda: Counter())\n",
        "\n",
        "    with open(file_path, 'r', encoding=\"utf-8\") as files:\n",
        "        for line in files:\n",
        "            all_n_grams = ngrams(word_tokenize(line), window_size + 1, pad_right=True, pad_left=True)\n",
        "            for n_gram in all_n_grams:\n",
        "                if n_gram[0] in vocab:\n",
        "                    for idx, gram in enumerate(n_gram):\n",
        "                        if gram in vocab:\n",
        "                            occurrences_tracker[vocab_idx[n_gram[0]]][vocab_idx[gram]] += ramp[idx]\n",
        "\n",
        "                reversed_n_gram = n_gram[::-1]\n",
        "                if reversed_n_gram[0] in vocab:\n",
        "                    for idx, gram in enumerate(reversed_n_gram):\n",
        "                        if gram in vocab:\n",
        "                            occurrences_tracker[vocab_idx[reversed_n_gram[0]]][vocab_idx[gram]] += ramp[idx]\n",
        "\n",
        "    sparse_matrix = dok_matrix((len(vocab), len(vocab)), dtype=np.int64)\n",
        "\n",
        "    # Populate the matrix\n",
        "    for current_i in tqdm(range(len(vocab))):\n",
        "        for current_j in occurrences_tracker[current_i].keys():\n",
        "            sparse_matrix[current_i, current_j] = occurrences_tracker[current_i][current_j]\n",
        "\n",
        "    return sparse_matrix.tocsr()"
      ]
    },
    {
      "cell_type": "markdown",
      "source": [
        "- Save the Output Frequency Matrix to avoid memory crash"
      ],
      "metadata": {
        "id": "De5utaXDGOLl"
      }
    },
    {
      "cell_type": "code",
      "source": [
        "freq_mat = co_occurrences('/content/drive/MyDrive/processed_words.txt')\n",
        "save_path = '/content/drive/MyDrive/Assign/cooccurrence_matrix.npz'\n",
        "save_npz(save_path, freq_mat)\n",
        "\n",
        "print(f\"Matrix saved successfully at {save_path}\")"
      ],
      "metadata": {
        "colab": {
          "base_uri": "https://localhost:8080/"
        },
        "id": "pKoXNSUwGVol",
        "outputId": "b556ce43-a8ac-42d8-b87e-cdef5e30fa9f"
      },
      "execution_count": null,
      "outputs": [
        {
          "output_type": "stream",
          "name": "stdout",
          "text": [
            "Matrix saved successfully at /content/drive/MyDrive/Assign/cooccurrence_matrix.npz\n"
          ]
        }
      ]
    },
    {
      "cell_type": "markdown",
      "source": [
        "- Calling saved matrix stored in drive"
      ],
      "metadata": {
        "id": "yXXpKaOsGuqV"
      }
    },
    {
      "cell_type": "code",
      "source": [
        "data = np.load('/content/drive/MyDrive/Assign/cooccurrence_matrix.npz')\n",
        "matrix = csr_matrix((data['data'], data['indices'], data['indptr']), shape=data['shape'])\n",
        "\n",
        "freq_mat = matrix.toarray()\n",
        "\n",
        "vocab_subset = vocab[3000:3015]\n",
        "df = pd.DataFrame(freq_mat[3000:3015, 3000:3015], index=vocab_subset, columns=vocab_subset)\n",
        "print(\"\\t\\t\\t\\tSubset of Co-occurrence Matrix as DataFrame:\")\n",
        "df"
      ],
      "metadata": {
        "colab": {
          "base_uri": "https://localhost:8080/",
          "height": 557
        },
        "id": "M8K4zim5Gm0G",
        "outputId": "6841c60a-a64d-49bf-c7dc-1a9c82a69675"
      },
      "execution_count": null,
      "outputs": [
        {
          "output_type": "stream",
          "name": "stdout",
          "text": [
            "\t\t\t\tSubset of Co-occurrence Matrix as DataFrame:\n"
          ]
        },
        {
          "output_type": "execute_result",
          "data": {
            "text/plain": [
              "            infant  connection  mammals  chemokines  tertiary  validity  \\\n",
              "infant         652           4        5           1         1         0   \n",
              "connection       4         494       12           2         0         2   \n",
              "mammals          5          12      246           0         4         0   \n",
              "chemokines       1           2        0         626         3         0   \n",
              "tertiary         1           0        4           3       136         1   \n",
              "validity         0           2        0           0         1       832   \n",
              "official         0           5        0           0         1         9   \n",
              "yielded          4           3        2           0         5         4   \n",
              "blocks           0          27        2           3         9         7   \n",
              "reveals          0          31       11           4        10         0   \n",
              "statement        1          10        5           0         0        11   \n",
              "routinely        8           0        1           0         1         6   \n",
              "deposition       0           4        8           4         0         0   \n",
              "breath           0           2        0           0         1         0   \n",
              "spaces           6          17        5           5         0         0   \n",
              "\n",
              "            official  yielded  blocks  reveals  statement  routinely  \\\n",
              "infant             0        4       0        0          1          8   \n",
              "connection         5        3      27       31         10          0   \n",
              "mammals            0        2       2       11          5          1   \n",
              "chemokines         0        0       3        4          0          0   \n",
              "tertiary           1        5       9       10          0          1   \n",
              "validity           9        4       7        0         11          6   \n",
              "official         280        3       4       11        127          5   \n",
              "yielded            3      144       0        0          1         12   \n",
              "blocks             4        0     734        5          5         12   \n",
              "reveals           11        0       5       12          6          0   \n",
              "statement        127        1       5        6        678          9   \n",
              "routinely          5       12      12        0          9         20   \n",
              "deposition         0        0      11       29          0          4   \n",
              "breath             0        0       0       23          0          4   \n",
              "spaces            10        3       1       15          0          0   \n",
              "\n",
              "            deposition  breath  spaces  \n",
              "infant               0       0       6  \n",
              "connection           4       2      17  \n",
              "mammals              8       0       5  \n",
              "chemokines           4       0       5  \n",
              "tertiary             0       1       0  \n",
              "validity             0       0       0  \n",
              "official             0       0      10  \n",
              "yielded              0       0       3  \n",
              "blocks              11       0       1  \n",
              "reveals             29      23      15  \n",
              "statement            0       0       0  \n",
              "routinely            4       4       0  \n",
              "deposition         630       7      26  \n",
              "breath               7     506       0  \n",
              "spaces              26       0     618  "
            ],
            "text/html": [
              "\n",
              "  <div id=\"df-7aebb903-9c2b-4549-96fe-c6479f512b6e\" class=\"colab-df-container\">\n",
              "    <div>\n",
              "<style scoped>\n",
              "    .dataframe tbody tr th:only-of-type {\n",
              "        vertical-align: middle;\n",
              "    }\n",
              "\n",
              "    .dataframe tbody tr th {\n",
              "        vertical-align: top;\n",
              "    }\n",
              "\n",
              "    .dataframe thead th {\n",
              "        text-align: right;\n",
              "    }\n",
              "</style>\n",
              "<table border=\"1\" class=\"dataframe\">\n",
              "  <thead>\n",
              "    <tr style=\"text-align: right;\">\n",
              "      <th></th>\n",
              "      <th>infant</th>\n",
              "      <th>connection</th>\n",
              "      <th>mammals</th>\n",
              "      <th>chemokines</th>\n",
              "      <th>tertiary</th>\n",
              "      <th>validity</th>\n",
              "      <th>official</th>\n",
              "      <th>yielded</th>\n",
              "      <th>blocks</th>\n",
              "      <th>reveals</th>\n",
              "      <th>statement</th>\n",
              "      <th>routinely</th>\n",
              "      <th>deposition</th>\n",
              "      <th>breath</th>\n",
              "      <th>spaces</th>\n",
              "    </tr>\n",
              "  </thead>\n",
              "  <tbody>\n",
              "    <tr>\n",
              "      <th>infant</th>\n",
              "      <td>652</td>\n",
              "      <td>4</td>\n",
              "      <td>5</td>\n",
              "      <td>1</td>\n",
              "      <td>1</td>\n",
              "      <td>0</td>\n",
              "      <td>0</td>\n",
              "      <td>4</td>\n",
              "      <td>0</td>\n",
              "      <td>0</td>\n",
              "      <td>1</td>\n",
              "      <td>8</td>\n",
              "      <td>0</td>\n",
              "      <td>0</td>\n",
              "      <td>6</td>\n",
              "    </tr>\n",
              "    <tr>\n",
              "      <th>connection</th>\n",
              "      <td>4</td>\n",
              "      <td>494</td>\n",
              "      <td>12</td>\n",
              "      <td>2</td>\n",
              "      <td>0</td>\n",
              "      <td>2</td>\n",
              "      <td>5</td>\n",
              "      <td>3</td>\n",
              "      <td>27</td>\n",
              "      <td>31</td>\n",
              "      <td>10</td>\n",
              "      <td>0</td>\n",
              "      <td>4</td>\n",
              "      <td>2</td>\n",
              "      <td>17</td>\n",
              "    </tr>\n",
              "    <tr>\n",
              "      <th>mammals</th>\n",
              "      <td>5</td>\n",
              "      <td>12</td>\n",
              "      <td>246</td>\n",
              "      <td>0</td>\n",
              "      <td>4</td>\n",
              "      <td>0</td>\n",
              "      <td>0</td>\n",
              "      <td>2</td>\n",
              "      <td>2</td>\n",
              "      <td>11</td>\n",
              "      <td>5</td>\n",
              "      <td>1</td>\n",
              "      <td>8</td>\n",
              "      <td>0</td>\n",
              "      <td>5</td>\n",
              "    </tr>\n",
              "    <tr>\n",
              "      <th>chemokines</th>\n",
              "      <td>1</td>\n",
              "      <td>2</td>\n",
              "      <td>0</td>\n",
              "      <td>626</td>\n",
              "      <td>3</td>\n",
              "      <td>0</td>\n",
              "      <td>0</td>\n",
              "      <td>0</td>\n",
              "      <td>3</td>\n",
              "      <td>4</td>\n",
              "      <td>0</td>\n",
              "      <td>0</td>\n",
              "      <td>4</td>\n",
              "      <td>0</td>\n",
              "      <td>5</td>\n",
              "    </tr>\n",
              "    <tr>\n",
              "      <th>tertiary</th>\n",
              "      <td>1</td>\n",
              "      <td>0</td>\n",
              "      <td>4</td>\n",
              "      <td>3</td>\n",
              "      <td>136</td>\n",
              "      <td>1</td>\n",
              "      <td>1</td>\n",
              "      <td>5</td>\n",
              "      <td>9</td>\n",
              "      <td>10</td>\n",
              "      <td>0</td>\n",
              "      <td>1</td>\n",
              "      <td>0</td>\n",
              "      <td>1</td>\n",
              "      <td>0</td>\n",
              "    </tr>\n",
              "    <tr>\n",
              "      <th>validity</th>\n",
              "      <td>0</td>\n",
              "      <td>2</td>\n",
              "      <td>0</td>\n",
              "      <td>0</td>\n",
              "      <td>1</td>\n",
              "      <td>832</td>\n",
              "      <td>9</td>\n",
              "      <td>4</td>\n",
              "      <td>7</td>\n",
              "      <td>0</td>\n",
              "      <td>11</td>\n",
              "      <td>6</td>\n",
              "      <td>0</td>\n",
              "      <td>0</td>\n",
              "      <td>0</td>\n",
              "    </tr>\n",
              "    <tr>\n",
              "      <th>official</th>\n",
              "      <td>0</td>\n",
              "      <td>5</td>\n",
              "      <td>0</td>\n",
              "      <td>0</td>\n",
              "      <td>1</td>\n",
              "      <td>9</td>\n",
              "      <td>280</td>\n",
              "      <td>3</td>\n",
              "      <td>4</td>\n",
              "      <td>11</td>\n",
              "      <td>127</td>\n",
              "      <td>5</td>\n",
              "      <td>0</td>\n",
              "      <td>0</td>\n",
              "      <td>10</td>\n",
              "    </tr>\n",
              "    <tr>\n",
              "      <th>yielded</th>\n",
              "      <td>4</td>\n",
              "      <td>3</td>\n",
              "      <td>2</td>\n",
              "      <td>0</td>\n",
              "      <td>5</td>\n",
              "      <td>4</td>\n",
              "      <td>3</td>\n",
              "      <td>144</td>\n",
              "      <td>0</td>\n",
              "      <td>0</td>\n",
              "      <td>1</td>\n",
              "      <td>12</td>\n",
              "      <td>0</td>\n",
              "      <td>0</td>\n",
              "      <td>3</td>\n",
              "    </tr>\n",
              "    <tr>\n",
              "      <th>blocks</th>\n",
              "      <td>0</td>\n",
              "      <td>27</td>\n",
              "      <td>2</td>\n",
              "      <td>3</td>\n",
              "      <td>9</td>\n",
              "      <td>7</td>\n",
              "      <td>4</td>\n",
              "      <td>0</td>\n",
              "      <td>734</td>\n",
              "      <td>5</td>\n",
              "      <td>5</td>\n",
              "      <td>12</td>\n",
              "      <td>11</td>\n",
              "      <td>0</td>\n",
              "      <td>1</td>\n",
              "    </tr>\n",
              "    <tr>\n",
              "      <th>reveals</th>\n",
              "      <td>0</td>\n",
              "      <td>31</td>\n",
              "      <td>11</td>\n",
              "      <td>4</td>\n",
              "      <td>10</td>\n",
              "      <td>0</td>\n",
              "      <td>11</td>\n",
              "      <td>0</td>\n",
              "      <td>5</td>\n",
              "      <td>12</td>\n",
              "      <td>6</td>\n",
              "      <td>0</td>\n",
              "      <td>29</td>\n",
              "      <td>23</td>\n",
              "      <td>15</td>\n",
              "    </tr>\n",
              "    <tr>\n",
              "      <th>statement</th>\n",
              "      <td>1</td>\n",
              "      <td>10</td>\n",
              "      <td>5</td>\n",
              "      <td>0</td>\n",
              "      <td>0</td>\n",
              "      <td>11</td>\n",
              "      <td>127</td>\n",
              "      <td>1</td>\n",
              "      <td>5</td>\n",
              "      <td>6</td>\n",
              "      <td>678</td>\n",
              "      <td>9</td>\n",
              "      <td>0</td>\n",
              "      <td>0</td>\n",
              "      <td>0</td>\n",
              "    </tr>\n",
              "    <tr>\n",
              "      <th>routinely</th>\n",
              "      <td>8</td>\n",
              "      <td>0</td>\n",
              "      <td>1</td>\n",
              "      <td>0</td>\n",
              "      <td>1</td>\n",
              "      <td>6</td>\n",
              "      <td>5</td>\n",
              "      <td>12</td>\n",
              "      <td>12</td>\n",
              "      <td>0</td>\n",
              "      <td>9</td>\n",
              "      <td>20</td>\n",
              "      <td>4</td>\n",
              "      <td>4</td>\n",
              "      <td>0</td>\n",
              "    </tr>\n",
              "    <tr>\n",
              "      <th>deposition</th>\n",
              "      <td>0</td>\n",
              "      <td>4</td>\n",
              "      <td>8</td>\n",
              "      <td>4</td>\n",
              "      <td>0</td>\n",
              "      <td>0</td>\n",
              "      <td>0</td>\n",
              "      <td>0</td>\n",
              "      <td>11</td>\n",
              "      <td>29</td>\n",
              "      <td>0</td>\n",
              "      <td>4</td>\n",
              "      <td>630</td>\n",
              "      <td>7</td>\n",
              "      <td>26</td>\n",
              "    </tr>\n",
              "    <tr>\n",
              "      <th>breath</th>\n",
              "      <td>0</td>\n",
              "      <td>2</td>\n",
              "      <td>0</td>\n",
              "      <td>0</td>\n",
              "      <td>1</td>\n",
              "      <td>0</td>\n",
              "      <td>0</td>\n",
              "      <td>0</td>\n",
              "      <td>0</td>\n",
              "      <td>23</td>\n",
              "      <td>0</td>\n",
              "      <td>4</td>\n",
              "      <td>7</td>\n",
              "      <td>506</td>\n",
              "      <td>0</td>\n",
              "    </tr>\n",
              "    <tr>\n",
              "      <th>spaces</th>\n",
              "      <td>6</td>\n",
              "      <td>17</td>\n",
              "      <td>5</td>\n",
              "      <td>5</td>\n",
              "      <td>0</td>\n",
              "      <td>0</td>\n",
              "      <td>10</td>\n",
              "      <td>3</td>\n",
              "      <td>1</td>\n",
              "      <td>15</td>\n",
              "      <td>0</td>\n",
              "      <td>0</td>\n",
              "      <td>26</td>\n",
              "      <td>0</td>\n",
              "      <td>618</td>\n",
              "    </tr>\n",
              "  </tbody>\n",
              "</table>\n",
              "</div>\n",
              "    <div class=\"colab-df-buttons\">\n",
              "\n",
              "  <div class=\"colab-df-container\">\n",
              "    <button class=\"colab-df-convert\" onclick=\"convertToInteractive('df-7aebb903-9c2b-4549-96fe-c6479f512b6e')\"\n",
              "            title=\"Convert this dataframe to an interactive table.\"\n",
              "            style=\"display:none;\">\n",
              "\n",
              "  <svg xmlns=\"http://www.w3.org/2000/svg\" height=\"24px\" viewBox=\"0 -960 960 960\">\n",
              "    <path d=\"M120-120v-720h720v720H120Zm60-500h600v-160H180v160Zm220 220h160v-160H400v160Zm0 220h160v-160H400v160ZM180-400h160v-160H180v160Zm440 0h160v-160H620v160ZM180-180h160v-160H180v160Zm440 0h160v-160H620v160Z\"/>\n",
              "  </svg>\n",
              "    </button>\n",
              "\n",
              "  <style>\n",
              "    .colab-df-container {\n",
              "      display:flex;\n",
              "      gap: 12px;\n",
              "    }\n",
              "\n",
              "    .colab-df-convert {\n",
              "      background-color: #E8F0FE;\n",
              "      border: none;\n",
              "      border-radius: 50%;\n",
              "      cursor: pointer;\n",
              "      display: none;\n",
              "      fill: #1967D2;\n",
              "      height: 32px;\n",
              "      padding: 0 0 0 0;\n",
              "      width: 32px;\n",
              "    }\n",
              "\n",
              "    .colab-df-convert:hover {\n",
              "      background-color: #E2EBFA;\n",
              "      box-shadow: 0px 1px 2px rgba(60, 64, 67, 0.3), 0px 1px 3px 1px rgba(60, 64, 67, 0.15);\n",
              "      fill: #174EA6;\n",
              "    }\n",
              "\n",
              "    .colab-df-buttons div {\n",
              "      margin-bottom: 4px;\n",
              "    }\n",
              "\n",
              "    [theme=dark] .colab-df-convert {\n",
              "      background-color: #3B4455;\n",
              "      fill: #D2E3FC;\n",
              "    }\n",
              "\n",
              "    [theme=dark] .colab-df-convert:hover {\n",
              "      background-color: #434B5C;\n",
              "      box-shadow: 0px 1px 3px 1px rgba(0, 0, 0, 0.15);\n",
              "      filter: drop-shadow(0px 1px 2px rgba(0, 0, 0, 0.3));\n",
              "      fill: #FFFFFF;\n",
              "    }\n",
              "  </style>\n",
              "\n",
              "    <script>\n",
              "      const buttonEl =\n",
              "        document.querySelector('#df-7aebb903-9c2b-4549-96fe-c6479f512b6e button.colab-df-convert');\n",
              "      buttonEl.style.display =\n",
              "        google.colab.kernel.accessAllowed ? 'block' : 'none';\n",
              "\n",
              "      async function convertToInteractive(key) {\n",
              "        const element = document.querySelector('#df-7aebb903-9c2b-4549-96fe-c6479f512b6e');\n",
              "        const dataTable =\n",
              "          await google.colab.kernel.invokeFunction('convertToInteractive',\n",
              "                                                    [key], {});\n",
              "        if (!dataTable) return;\n",
              "\n",
              "        const docLinkHtml = 'Like what you see? Visit the ' +\n",
              "          '<a target=\"_blank\" href=https://colab.research.google.com/notebooks/data_table.ipynb>data table notebook</a>'\n",
              "          + ' to learn more about interactive tables.';\n",
              "        element.innerHTML = '';\n",
              "        dataTable['output_type'] = 'display_data';\n",
              "        await google.colab.output.renderOutput(dataTable, element);\n",
              "        const docLink = document.createElement('div');\n",
              "        docLink.innerHTML = docLinkHtml;\n",
              "        element.appendChild(docLink);\n",
              "      }\n",
              "    </script>\n",
              "  </div>\n",
              "\n",
              "\n",
              "<div id=\"df-50eee02c-94ac-4ec2-a8bf-5f05b601e53e\">\n",
              "  <button class=\"colab-df-quickchart\" onclick=\"quickchart('df-50eee02c-94ac-4ec2-a8bf-5f05b601e53e')\"\n",
              "            title=\"Suggest charts\"\n",
              "            style=\"display:none;\">\n",
              "\n",
              "<svg xmlns=\"http://www.w3.org/2000/svg\" height=\"24px\"viewBox=\"0 0 24 24\"\n",
              "     width=\"24px\">\n",
              "    <g>\n",
              "        <path d=\"M19 3H5c-1.1 0-2 .9-2 2v14c0 1.1.9 2 2 2h14c1.1 0 2-.9 2-2V5c0-1.1-.9-2-2-2zM9 17H7v-7h2v7zm4 0h-2V7h2v10zm4 0h-2v-4h2v4z\"/>\n",
              "    </g>\n",
              "</svg>\n",
              "  </button>\n",
              "\n",
              "<style>\n",
              "  .colab-df-quickchart {\n",
              "      --bg-color: #E8F0FE;\n",
              "      --fill-color: #1967D2;\n",
              "      --hover-bg-color: #E2EBFA;\n",
              "      --hover-fill-color: #174EA6;\n",
              "      --disabled-fill-color: #AAA;\n",
              "      --disabled-bg-color: #DDD;\n",
              "  }\n",
              "\n",
              "  [theme=dark] .colab-df-quickchart {\n",
              "      --bg-color: #3B4455;\n",
              "      --fill-color: #D2E3FC;\n",
              "      --hover-bg-color: #434B5C;\n",
              "      --hover-fill-color: #FFFFFF;\n",
              "      --disabled-bg-color: #3B4455;\n",
              "      --disabled-fill-color: #666;\n",
              "  }\n",
              "\n",
              "  .colab-df-quickchart {\n",
              "    background-color: var(--bg-color);\n",
              "    border: none;\n",
              "    border-radius: 50%;\n",
              "    cursor: pointer;\n",
              "    display: none;\n",
              "    fill: var(--fill-color);\n",
              "    height: 32px;\n",
              "    padding: 0;\n",
              "    width: 32px;\n",
              "  }\n",
              "\n",
              "  .colab-df-quickchart:hover {\n",
              "    background-color: var(--hover-bg-color);\n",
              "    box-shadow: 0 1px 2px rgba(60, 64, 67, 0.3), 0 1px 3px 1px rgba(60, 64, 67, 0.15);\n",
              "    fill: var(--button-hover-fill-color);\n",
              "  }\n",
              "\n",
              "  .colab-df-quickchart-complete:disabled,\n",
              "  .colab-df-quickchart-complete:disabled:hover {\n",
              "    background-color: var(--disabled-bg-color);\n",
              "    fill: var(--disabled-fill-color);\n",
              "    box-shadow: none;\n",
              "  }\n",
              "\n",
              "  .colab-df-spinner {\n",
              "    border: 2px solid var(--fill-color);\n",
              "    border-color: transparent;\n",
              "    border-bottom-color: var(--fill-color);\n",
              "    animation:\n",
              "      spin 1s steps(1) infinite;\n",
              "  }\n",
              "\n",
              "  @keyframes spin {\n",
              "    0% {\n",
              "      border-color: transparent;\n",
              "      border-bottom-color: var(--fill-color);\n",
              "      border-left-color: var(--fill-color);\n",
              "    }\n",
              "    20% {\n",
              "      border-color: transparent;\n",
              "      border-left-color: var(--fill-color);\n",
              "      border-top-color: var(--fill-color);\n",
              "    }\n",
              "    30% {\n",
              "      border-color: transparent;\n",
              "      border-left-color: var(--fill-color);\n",
              "      border-top-color: var(--fill-color);\n",
              "      border-right-color: var(--fill-color);\n",
              "    }\n",
              "    40% {\n",
              "      border-color: transparent;\n",
              "      border-right-color: var(--fill-color);\n",
              "      border-top-color: var(--fill-color);\n",
              "    }\n",
              "    60% {\n",
              "      border-color: transparent;\n",
              "      border-right-color: var(--fill-color);\n",
              "    }\n",
              "    80% {\n",
              "      border-color: transparent;\n",
              "      border-right-color: var(--fill-color);\n",
              "      border-bottom-color: var(--fill-color);\n",
              "    }\n",
              "    90% {\n",
              "      border-color: transparent;\n",
              "      border-bottom-color: var(--fill-color);\n",
              "    }\n",
              "  }\n",
              "</style>\n",
              "\n",
              "  <script>\n",
              "    async function quickchart(key) {\n",
              "      const quickchartButtonEl =\n",
              "        document.querySelector('#' + key + ' button');\n",
              "      quickchartButtonEl.disabled = true;  // To prevent multiple clicks.\n",
              "      quickchartButtonEl.classList.add('colab-df-spinner');\n",
              "      try {\n",
              "        const charts = await google.colab.kernel.invokeFunction(\n",
              "            'suggestCharts', [key], {});\n",
              "      } catch (error) {\n",
              "        console.error('Error during call to suggestCharts:', error);\n",
              "      }\n",
              "      quickchartButtonEl.classList.remove('colab-df-spinner');\n",
              "      quickchartButtonEl.classList.add('colab-df-quickchart-complete');\n",
              "    }\n",
              "    (() => {\n",
              "      let quickchartButtonEl =\n",
              "        document.querySelector('#df-50eee02c-94ac-4ec2-a8bf-5f05b601e53e button');\n",
              "      quickchartButtonEl.style.display =\n",
              "        google.colab.kernel.accessAllowed ? 'block' : 'none';\n",
              "    })();\n",
              "  </script>\n",
              "</div>\n",
              "\n",
              "  <div id=\"id_f452f06b-c540-4faa-8b76-09737daa423c\">\n",
              "    <style>\n",
              "      .colab-df-generate {\n",
              "        background-color: #E8F0FE;\n",
              "        border: none;\n",
              "        border-radius: 50%;\n",
              "        cursor: pointer;\n",
              "        display: none;\n",
              "        fill: #1967D2;\n",
              "        height: 32px;\n",
              "        padding: 0 0 0 0;\n",
              "        width: 32px;\n",
              "      }\n",
              "\n",
              "      .colab-df-generate:hover {\n",
              "        background-color: #E2EBFA;\n",
              "        box-shadow: 0px 1px 2px rgba(60, 64, 67, 0.3), 0px 1px 3px 1px rgba(60, 64, 67, 0.15);\n",
              "        fill: #174EA6;\n",
              "      }\n",
              "\n",
              "      [theme=dark] .colab-df-generate {\n",
              "        background-color: #3B4455;\n",
              "        fill: #D2E3FC;\n",
              "      }\n",
              "\n",
              "      [theme=dark] .colab-df-generate:hover {\n",
              "        background-color: #434B5C;\n",
              "        box-shadow: 0px 1px 3px 1px rgba(0, 0, 0, 0.15);\n",
              "        filter: drop-shadow(0px 1px 2px rgba(0, 0, 0, 0.3));\n",
              "        fill: #FFFFFF;\n",
              "      }\n",
              "    </style>\n",
              "    <button class=\"colab-df-generate\" onclick=\"generateWithVariable('df')\"\n",
              "            title=\"Generate code using this dataframe.\"\n",
              "            style=\"display:none;\">\n",
              "\n",
              "  <svg xmlns=\"http://www.w3.org/2000/svg\" height=\"24px\"viewBox=\"0 0 24 24\"\n",
              "       width=\"24px\">\n",
              "    <path d=\"M7,19H8.4L18.45,9,17,7.55,7,17.6ZM5,21V16.75L18.45,3.32a2,2,0,0,1,2.83,0l1.4,1.43a1.91,1.91,0,0,1,.58,1.4,1.91,1.91,0,0,1-.58,1.4L9.25,21ZM18.45,9,17,7.55Zm-12,3A5.31,5.31,0,0,0,4.9,8.1,5.31,5.31,0,0,0,1,6.5,5.31,5.31,0,0,0,4.9,4.9,5.31,5.31,0,0,0,6.5,1,5.31,5.31,0,0,0,8.1,4.9,5.31,5.31,0,0,0,12,6.5,5.46,5.46,0,0,0,6.5,12Z\"/>\n",
              "  </svg>\n",
              "    </button>\n",
              "    <script>\n",
              "      (() => {\n",
              "      const buttonEl =\n",
              "        document.querySelector('#id_f452f06b-c540-4faa-8b76-09737daa423c button.colab-df-generate');\n",
              "      buttonEl.style.display =\n",
              "        google.colab.kernel.accessAllowed ? 'block' : 'none';\n",
              "\n",
              "      buttonEl.onclick = () => {\n",
              "        google.colab.notebook.generateWithVariable('df');\n",
              "      }\n",
              "      })();\n",
              "    </script>\n",
              "  </div>\n",
              "\n",
              "    </div>\n",
              "  </div>\n"
            ],
            "application/vnd.google.colaboratory.intrinsic+json": {
              "type": "dataframe",
              "variable_name": "df",
              "summary": "{\n  \"name\": \"df\",\n  \"rows\": 15,\n  \"fields\": [\n    {\n      \"column\": \"infant\",\n      \"properties\": {\n        \"dtype\": \"number\",\n        \"std\": 167,\n        \"min\": 0,\n        \"max\": 652,\n        \"num_unique_values\": 7,\n        \"samples\": [\n          652,\n          4,\n          8\n        ],\n        \"semantic_type\": \"\",\n        \"description\": \"\"\n      }\n    },\n    {\n      \"column\": \"connection\",\n      \"properties\": {\n        \"dtype\": \"number\",\n        \"std\": 125,\n        \"min\": 0,\n        \"max\": 494,\n        \"num_unique_values\": 11,\n        \"samples\": [\n          5,\n          4,\n          10\n        ],\n        \"semantic_type\": \"\",\n        \"description\": \"\"\n      }\n    },\n    {\n      \"column\": \"mammals\",\n      \"properties\": {\n        \"dtype\": \"number\",\n        \"std\": 62,\n        \"min\": 0,\n        \"max\": 246,\n        \"num_unique_values\": 9,\n        \"samples\": [\n          1,\n          12,\n          2\n        ],\n        \"semantic_type\": \"\",\n        \"description\": \"\"\n      }\n    },\n    {\n      \"column\": \"chemokines\",\n      \"properties\": {\n        \"dtype\": \"number\",\n        \"std\": 161,\n        \"min\": 0,\n        \"max\": 626,\n        \"num_unique_values\": 7,\n        \"samples\": [\n          1,\n          2,\n          4\n        ],\n        \"semantic_type\": \"\",\n        \"description\": \"\"\n      }\n    },\n    {\n      \"column\": \"tertiary\",\n      \"properties\": {\n        \"dtype\": \"number\",\n        \"std\": 34,\n        \"min\": 0,\n        \"max\": 136,\n        \"num_unique_values\": 8,\n        \"samples\": [\n          0,\n          5,\n          1\n        ],\n        \"semantic_type\": \"\",\n        \"description\": \"\"\n      }\n    },\n    {\n      \"column\": \"validity\",\n      \"properties\": {\n        \"dtype\": \"number\",\n        \"std\": 214,\n        \"min\": 0,\n        \"max\": 832,\n        \"num_unique_values\": 9,\n        \"samples\": [\n          11,\n          2,\n          4\n        ],\n        \"semantic_type\": \"\",\n        \"description\": \"\"\n      }\n    },\n    {\n      \"column\": \"official\",\n      \"properties\": {\n        \"dtype\": \"number\",\n        \"std\": 76,\n        \"min\": 0,\n        \"max\": 280,\n        \"num_unique_values\": 10,\n        \"samples\": [\n          127,\n          5,\n          3\n        ],\n        \"semantic_type\": \"\",\n        \"description\": \"\"\n      }\n    },\n    {\n      \"column\": \"yielded\",\n      \"properties\": {\n        \"dtype\": \"number\",\n        \"std\": 36,\n        \"min\": 0,\n        \"max\": 144,\n        \"num_unique_values\": 8,\n        \"samples\": [\n          3,\n          144,\n          4\n        ],\n        \"semantic_type\": \"\",\n        \"description\": \"\"\n      }\n    },\n    {\n      \"column\": \"blocks\",\n      \"properties\": {\n        \"dtype\": \"number\",\n        \"std\": 188,\n        \"min\": 0,\n        \"max\": 734,\n        \"num_unique_values\": 12,\n        \"samples\": [\n          11,\n          12,\n          0\n        ],\n        \"semantic_type\": \"\",\n        \"description\": \"\"\n      }\n    },\n    {\n      \"column\": \"reveals\",\n      \"properties\": {\n        \"dtype\": \"number\",\n        \"std\": 10,\n        \"min\": 0,\n        \"max\": 31,\n        \"num_unique_values\": 11,\n        \"samples\": [\n          5,\n          0,\n          23\n        ],\n        \"semantic_type\": \"\",\n        \"description\": \"\"\n      }\n    },\n    {\n      \"column\": \"statement\",\n      \"properties\": {\n        \"dtype\": \"number\",\n        \"std\": 174,\n        \"min\": 0,\n        \"max\": 678,\n        \"num_unique_values\": 9,\n        \"samples\": [\n          678,\n          10,\n          127\n        ],\n        \"semantic_type\": \"\",\n        \"description\": \"\"\n      }\n    },\n    {\n      \"column\": \"routinely\",\n      \"properties\": {\n        \"dtype\": \"number\",\n        \"std\": 5,\n        \"min\": 0,\n        \"max\": 20,\n        \"num_unique_values\": 9,\n        \"samples\": [\n          20,\n          0,\n          12\n        ],\n        \"semantic_type\": \"\",\n        \"description\": \"\"\n      }\n    },\n    {\n      \"column\": \"deposition\",\n      \"properties\": {\n        \"dtype\": \"number\",\n        \"std\": 161,\n        \"min\": 0,\n        \"max\": 630,\n        \"num_unique_values\": 8,\n        \"samples\": [\n          4,\n          630,\n          0\n        ],\n        \"semantic_type\": \"\",\n        \"description\": \"\"\n      }\n    },\n    {\n      \"column\": \"breath\",\n      \"properties\": {\n        \"dtype\": \"number\",\n        \"std\": 130,\n        \"min\": 0,\n        \"max\": 506,\n        \"num_unique_values\": 7,\n        \"samples\": [\n          0,\n          2,\n          7\n        ],\n        \"semantic_type\": \"\",\n        \"description\": \"\"\n      }\n    },\n    {\n      \"column\": \"spaces\",\n      \"properties\": {\n        \"dtype\": \"number\",\n        \"std\": 158,\n        \"min\": 0,\n        \"max\": 618,\n        \"num_unique_values\": 10,\n        \"samples\": [\n          26,\n          17,\n          3\n        ],\n        \"semantic_type\": \"\",\n        \"description\": \"\"\n      }\n    }\n  ]\n}"
            }
          },
          "metadata": {},
          "execution_count": 144
        }
      ]
    },
    {
      "cell_type": "markdown",
      "source": [
        "- Amount of sparsity in 'freq_mat'"
      ],
      "metadata": {
        "id": "nYL6SwYrIVJi"
      }
    },
    {
      "cell_type": "code",
      "source": [
        "total_elements = freq_mat.shape[0] * freq_mat.shape[1]\n",
        "non_zero_elements = matrix.count_nonzero()\n",
        "\n",
        "sparsity = 1 - (non_zero_elements / total_elements)\n",
        "\n",
        "print(f\"Sparsity of the matrix: {sparsity*100:.2f}%\")"
      ],
      "metadata": {
        "colab": {
          "base_uri": "https://localhost:8080/"
        },
        "id": "KaI8RDPf5AuH",
        "outputId": "4b03a954-fac8-4c82-f919-096ed19264d5"
      },
      "execution_count": null,
      "outputs": [
        {
          "output_type": "stream",
          "name": "stdout",
          "text": [
            "Sparsity of the matrix: 41.06%\n"
          ]
        }
      ]
    },
    {
      "cell_type": "markdown",
      "source": [
        "<h2 align=\"center\" > Methodology :</h2>\n",
        "<br>\n",
        "We define the probability $ P{_{ij}} $ as :\n",
        "\n",
        "$$\n",
        "P(j \\mid i) = \\frac{X_{ij}}{X_i}\n",
        "$$\n",
        "where ${X_{ij}}$ represents the frequency of word k in context of word $ i $ and ${X_i}$ is the no. of times word $ i $ appeared with any other word.<br> Thus, $P(j \\mid i)$  represents the probability that word  $ j $  appears in the context of word $ i $.\n",
        "\n",
        "$$\n",
        "\\frac{P{_{ik}}}{P{_{jk}}} = \\frac{P(k \\mid i)}{P(k \\mid j)} = \\frac{X_{ik} \\cdot X_j}{X_{jk} \\cdot X_i}\n",
        "$$\n",
        "\n",
        "This compares how frequently word $ k $ appears in the context of word $ i $ relative to word $ j $ where the numerator and denominator account for the total co-occurrence counts of word $ k $ with words $ i $ and $ j $, weighted by their respective total context occurrences.\n",
        "\n",
        "`Note` : The `k` is chosen dynamically for each $j$ based on the row-wise maximum of the `weight_mat`. This strategy ensures that for each $ j $ , the co-occurrence value is computed relative to the most influential (highest weighted) feature k in that row."
      ],
      "metadata": {
        "id": "RsCb-2IYBmsA"
      }
    },
    {
      "cell_type": "markdown",
      "source": [
        "- Weighted Frequency Matrix & Co-occurence Matrix"
      ],
      "metadata": {
        "id": "Mll9iqabmg8c"
      }
    },
    {
      "cell_type": "code",
      "source": [
        "def calc_weight_mat(dim,freq_mat):\n",
        "  weight_mat = np.zeros((dim, dim),dtype=float)\n",
        "  row_sums = np.sum(freq_mat, axis=1)\n",
        "\n",
        "  for i in tqdm(range(dim)):\n",
        "      weight_mat[i,:] = freq_mat[i,:]/row_sums[i]\n",
        "  return weight_mat\n",
        "\n",
        "def calc_co_occur_mat(dim,weight_mat):\n",
        "  co_mat = np.zeros((dim, dim),dtype=float)\n",
        "  for j in tqdm(range(dim)):\n",
        "    k = np.argmax(weight_mat[j,:])  # Method to chose 'k'\n",
        "    for i in range(dim):\n",
        "      num = weight_mat[i, k]\n",
        "      deno = weight_mat[j, k]\n",
        "      if deno != 0:\n",
        "        co_mat[i, j] = num/deno\n",
        "  return co_mat"
      ],
      "metadata": {
        "id": "SCWBkYvXmgOA"
      },
      "execution_count": null,
      "outputs": []
    },
    {
      "cell_type": "markdown",
      "source": [
        "- Similarity Calculation"
      ],
      "metadata": {
        "id": "xgrC5jXpJdZN"
      }
    },
    {
      "cell_type": "code",
      "source": [
        "def cosine_sim(vec_a, vec_b):\n",
        "  dot_product = np.dot(vec_a, vec_b)\n",
        "  norm_a = np.linalg.norm(vec_a)\n",
        "  norm_b = np.linalg.norm(vec_b)\n",
        "  if norm_a == 0 or norm_b == 0:\n",
        "      return 0\n",
        "  return dot_product / (norm_a * norm_b)\n",
        "\n",
        "def find_similar_words(co_mat, word, top_n=10):\n",
        "    index = vocab_idx[word]\n",
        "    word_vector = co_mat[index]\n",
        "    similarities = []\n",
        "    for i in range(co_mat.shape[0]):\n",
        "        if i != index:\n",
        "            sim = cosine_sim(word_vector, co_mat[i])\n",
        "            similarities.append((vocab[i], sim))\n",
        "\n",
        "    similarities.sort(key=lambda x: x[1], reverse=True)\n",
        "    top_similar_words = similarities[:top_n]\n",
        "\n",
        "    return top_similar_words"
      ],
      "metadata": {
        "id": "1kuP9BMRJdII"
      },
      "execution_count": null,
      "outputs": []
    },
    {
      "cell_type": "markdown",
      "source": [
        "- Vocabulary size & size of matrix"
      ],
      "metadata": {
        "id": "YWe0RWeQ-oO-"
      }
    },
    {
      "cell_type": "code",
      "source": [
        "print('Vocabulary Size :', len(vocab))\n",
        "print('Cooccurence Matrix Size :', freq_mat.shape)"
      ],
      "metadata": {
        "id": "CERHjBbz6_iC",
        "colab": {
          "base_uri": "https://localhost:8080/"
        },
        "outputId": "d89554d2-b8ae-4d7b-ea72-44aae929fbef"
      },
      "execution_count": null,
      "outputs": [
        {
          "output_type": "stream",
          "name": "stdout",
          "text": [
            "Vocabulary Size : 7000\n",
            "Cooccurence Matrix Size : (7000, 7000)\n"
          ]
        }
      ]
    },
    {
      "cell_type": "markdown",
      "source": [
        "- Calling Functions to form Weighted Matrix & Co-occurence Matrix"
      ],
      "metadata": {
        "id": "quiuvHzXJtga"
      }
    },
    {
      "cell_type": "code",
      "source": [
        "dim = freq_mat.shape[0]\n",
        "weight_mat = calc_weight_mat(dim,freq_mat)"
      ],
      "metadata": {
        "colab": {
          "base_uri": "https://localhost:8080/"
        },
        "id": "SSqJ_zBHqYnq",
        "outputId": "c87e847e-87e7-41b1-be06-42648589fa93"
      },
      "execution_count": null,
      "outputs": [
        {
          "output_type": "stream",
          "name": "stderr",
          "text": [
            "100%|██████████| 7000/7000 [00:00<00:00, 15123.05it/s]\n"
          ]
        }
      ]
    },
    {
      "cell_type": "code",
      "source": [
        "co_occur_mat = calc_co_occur_mat(dim,weight_mat)"
      ],
      "metadata": {
        "colab": {
          "base_uri": "https://localhost:8080/"
        },
        "id": "f3vmS8wEw8BU",
        "outputId": "65247c9e-6785-4265-bafd-a9d7b07e68cb"
      },
      "execution_count": null,
      "outputs": [
        {
          "output_type": "stream",
          "name": "stderr",
          "text": [
            "100%|██████████| 7000/7000 [01:14<00:00, 93.36it/s] \n"
          ]
        }
      ]
    },
    {
      "cell_type": "markdown",
      "source": [
        "### Assignment - 03"
      ],
      "metadata": {
        "id": "3Mt7X-D2KDP-"
      }
    },
    {
      "cell_type": "markdown",
      "source": [
        "- 5 nouns and verbs relavant to covid-19 data"
      ],
      "metadata": {
        "id": "vlolofINR3rb"
      }
    },
    {
      "cell_type": "code",
      "source": [
        "nouns =  ['virus','pathogen','symptoms','lockdown','transmission']\n",
        "verbs = ['spread','infect','isolate','diagnose','monitor']"
      ],
      "metadata": {
        "id": "FOLUKRqJOPXX"
      },
      "execution_count": null,
      "outputs": []
    },
    {
      "cell_type": "code",
      "source": [
        "def print_similar_words(co_mat, words):\n",
        "    for word in words:\n",
        "        top_similar_words = find_similar_words(co_mat, word)\n",
        "\n",
        "        print(f\"\\nTop similar words to '{word}':\")\n",
        "        print(\"-\" * (len(f\"Top similar words to '{word}':\")))\n",
        "\n",
        "        for idx, (similar_word, similarity) in enumerate(top_similar_words, start=1):\n",
        "            cosine_distance = 1 - similarity\n",
        "            print(f\"{idx}. {similar_word:<20} (Cosine Distance: {cosine_distance:.4f})\")\n"
      ],
      "metadata": {
        "id": "ISydoUocuz4y"
      },
      "execution_count": null,
      "outputs": []
    },
    {
      "cell_type": "markdown",
      "source": [
        "- 10 similar words each for 5 verbs"
      ],
      "metadata": {
        "id": "MoKwD-WqRz4c"
      }
    },
    {
      "cell_type": "code",
      "source": [
        "print_similar_words(co_occur_mat, nouns)"
      ],
      "metadata": {
        "id": "kP5h5HT-y9FB",
        "colab": {
          "base_uri": "https://localhost:8080/"
        },
        "outputId": "41641c19-c44d-4699-8a53-61e0bd743f47"
      },
      "execution_count": null,
      "outputs": [
        {
          "output_type": "stream",
          "name": "stdout",
          "text": [
            "\n",
            "Top similar words to 'virus':\n",
            "-----------------------------\n",
            "1. hsv1                 (Cosine Distance: 0.0524)\n",
            "2. poliovirus           (Cosine Distance: 0.0657)\n",
            "3. ebov                 (Cosine Distance: 0.0671)\n",
            "4. hsv2                 (Cosine Distance: 0.0696)\n",
            "5. reovirus             (Cosine Distance: 0.0699)\n",
            "6. fipv                 (Cosine Distance: 0.0699)\n",
            "7. denv                 (Cosine Distance: 0.0728)\n",
            "8. hiv1                 (Cosine Distance: 0.0764)\n",
            "9. bvdv                 (Cosine Distance: 0.0784)\n",
            "10. norovirus            (Cosine Distance: 0.0813)\n",
            "\n",
            "Top similar words to 'pathogen':\n",
            "--------------------------------\n",
            "1. pathogens            (Cosine Distance: 0.0829)\n",
            "2. possibility          (Cosine Distance: 0.0999)\n",
            "3. organism             (Cosine Distance: 0.1061)\n",
            "4. consequence          (Cosine Distance: 0.1112)\n",
            "5. supposed             (Cosine Distance: 0.1131)\n",
            "6. likewise             (Cosine Distance: 0.1162)\n",
            "7. occurs               (Cosine Distance: 0.1187)\n",
            "8. probably             (Cosine Distance: 0.1191)\n",
            "9. certain              (Cosine Distance: 0.1203)\n",
            "10. believed             (Cosine Distance: 0.1217)\n",
            "\n",
            "Top similar words to 'symptoms':\n",
            "--------------------------------\n",
            "1. illness              (Cosine Distance: 0.0204)\n",
            "2. anosmia              (Cosine Distance: 0.0229)\n",
            "3. pneumonia            (Cosine Distance: 0.0247)\n",
            "4. chest                (Cosine Distance: 0.0266)\n",
            "5. severe               (Cosine Distance: 0.0272)\n",
            "6. complications        (Cosine Distance: 0.0273)\n",
            "7. worsening            (Cosine Distance: 0.0274)\n",
            "8. coagulopathy         (Cosine Distance: 0.0281)\n",
            "9. diagnoses            (Cosine Distance: 0.0288)\n",
            "10. encephalopathy       (Cosine Distance: 0.0289)\n",
            "\n",
            "Top similar words to 'lockdown':\n",
            "--------------------------------\n",
            "1. confinement          (Cosine Distance: 0.0351)\n",
            "2. lockdowns            (Cosine Distance: 0.0931)\n",
            "3. restrictions         (Cosine Distance: 0.0975)\n",
            "4. imposed              (Cosine Distance: 0.1092)\n",
            "5. reopening            (Cosine Distance: 0.1134)\n",
            "6. epidemic             (Cosine Distance: 0.1398)\n",
            "7. outbreak             (Cosine Distance: 0.1493)\n",
            "8. india                (Cosine Distance: 0.1521)\n",
            "9. cruise               (Cosine Distance: 0.1566)\n",
            "10. bangladesh           (Cosine Distance: 0.1573)\n",
            "\n",
            "Top similar words to 'transmission':\n",
            "------------------------------------\n",
            "1. spreading            (Cosine Distance: 0.0822)\n",
            "2. spread               (Cosine Distance: 0.1046)\n",
            "3. emergence            (Cosine Distance: 0.1140)\n",
            "4. caused               (Cosine Distance: 0.1257)\n",
            "5. causes               (Cosine Distance: 0.1270)\n",
            "6. contract             (Cosine Distance: 0.1282)\n",
            "7. widespread           (Cosine Distance: 0.1352)\n",
            "8. transmissibility     (Cosine Distance: 0.1366)\n",
            "9. emerged              (Cosine Distance: 0.1461)\n",
            "10. lethality            (Cosine Distance: 0.1547)\n"
          ]
        }
      ]
    },
    {
      "cell_type": "markdown",
      "source": [
        "- 10 similar words each for 5 verbs"
      ],
      "metadata": {
        "id": "JTbJB1xfRt3Z"
      }
    },
    {
      "cell_type": "code",
      "source": [
        "print_similar_words(co_occur_mat,verbs)"
      ],
      "metadata": {
        "id": "ggzkRhLYAWW5",
        "colab": {
          "base_uri": "https://localhost:8080/"
        },
        "outputId": "e5b6c528-3900-421a-ca6d-b2ee233e301c"
      },
      "execution_count": null,
      "outputs": [
        {
          "output_type": "stream",
          "name": "stdout",
          "text": [
            "\n",
            "Top similar words to 'spread':\n",
            "------------------------------\n",
            "1. spreading            (Cosine Distance: 0.0232)\n",
            "2. spreads              (Cosine Distance: 0.0619)\n",
            "3. caused               (Cosine Distance: 0.0779)\n",
            "4. deadly               (Cosine Distance: 0.0963)\n",
            "5. transmission         (Cosine Distance: 0.1046)\n",
            "6. emergence            (Cosine Distance: 0.1114)\n",
            "7. combat               (Cosine Distance: 0.1376)\n",
            "8. coronavirus          (Cosine Distance: 0.1429)\n",
            "9. transmissibility     (Cosine Distance: 0.1442)\n",
            "10. emerged              (Cosine Distance: 0.1454)\n",
            "\n",
            "Top similar words to 'infect':\n",
            "------------------------------\n",
            "1. kill                 (Cosine Distance: 0.0328)\n",
            "2. lineage              (Cosine Distance: 0.0356)\n",
            "3. replicate            (Cosine Distance: 0.0376)\n",
            "4. propagated           (Cosine Distance: 0.0402)\n",
            "5. preferentially       (Cosine Distance: 0.0409)\n",
            "6. grow                 (Cosine Distance: 0.0423)\n",
            "7. enter                (Cosine Distance: 0.0424)\n",
            "8. passages             (Cosine Distance: 0.0442)\n",
            "9. mammary              (Cosine Distance: 0.0470)\n",
            "10. mosquito             (Cosine Distance: 0.0482)\n",
            "\n",
            "Top similar words to 'isolate':\n",
            "-------------------------------\n",
            "1. originally           (Cosine Distance: 0.0938)\n",
            "2. antibodies           (Cosine Distance: 0.1044)\n",
            "3. variant              (Cosine Distance: 0.1087)\n",
            "4. type                 (Cosine Distance: 0.1110)\n",
            "5. preparations         (Cosine Distance: 0.1123)\n",
            "6. concentrate          (Cosine Distance: 0.1156)\n",
            "7. rescue               (Cosine Distance: 0.1188)\n",
            "8. identification       (Cosine Distance: 0.1248)\n",
            "9. primarily            (Cosine Distance: 0.1249)\n",
            "10. carrying             (Cosine Distance: 0.1280)\n",
            "\n",
            "Top similar words to 'diagnose':\n",
            "--------------------------------\n",
            "1. treat                (Cosine Distance: 0.0518)\n",
            "2. frequently           (Cosine Distance: 0.0859)\n",
            "3. monitor              (Cosine Distance: 0.0882)\n",
            "4. diagnosing           (Cosine Distance: 0.0889)\n",
            "5. identify             (Cosine Distance: 0.0993)\n",
            "6. classify             (Cosine Distance: 0.1002)\n",
            "7. screening            (Cosine Distance: 0.1028)\n",
            "8. often                (Cosine Distance: 0.1039)\n",
            "9. screen               (Cosine Distance: 0.1041)\n",
            "10. diagnostic           (Cosine Distance: 0.1180)\n",
            "\n",
            "Top similar words to 'monitor':\n",
            "-------------------------------\n",
            "1. identify             (Cosine Distance: 0.0424)\n",
            "2. select               (Cosine Distance: 0.0464)\n",
            "3. antimicrobials       (Cosine Distance: 0.0489)\n",
            "4. frequently           (Cosine Distance: 0.0498)\n",
            "5. routinely            (Cosine Distance: 0.0510)\n",
            "6. screen               (Cosine Distance: 0.0512)\n",
            "7. regularly            (Cosine Distance: 0.0571)\n",
            "8. classify             (Cosine Distance: 0.0601)\n",
            "9. treat                (Cosine Distance: 0.0611)\n",
            "10. often                (Cosine Distance: 0.0621)\n"
          ]
        }
      ]
    },
    {
      "cell_type": "markdown",
      "source": [
        "- Visualization of Concepts"
      ],
      "metadata": {
        "id": "5JI19so9d711"
      }
    },
    {
      "cell_type": "code",
      "source": [
        "concept_3 = ['lockdown', 'confinement', 'restrictions', 'reopening', 'outbreak','epidemic']\n",
        "concept_1 =  ['virus', 'hsv1', 'poliovirus', 'ebov', 'mutation' , 'flavivirus']\n",
        "concept_2 = [\"symptoms\", \"patients\", \"mortality\", \"recovery\", \"comorbidity\",'oxygen']"
      ],
      "metadata": {
        "id": "xU5xGg23novs"
      },
      "execution_count": null,
      "outputs": []
    },
    {
      "cell_type": "markdown",
      "source": [
        "- Function to compute similar matrix"
      ],
      "metadata": {
        "id": "hPmdrfjfn1lN"
      }
    },
    {
      "cell_type": "code",
      "source": [
        "def compute_sim_mat(concept_1,concept_2,concept_3):\n",
        "  final_words = concept_1 + concept_2 + concept_3\n",
        "  len_words = len(final_words)\n",
        "  similarity_mat = np.ones((len_words,len_words),dtype=float)\n",
        "\n",
        "  for i in range(len_words):\n",
        "    for j in range(len_words):\n",
        "      if i != j:\n",
        "        similarity_mat[i,j] = cosine_sim(co_occur_mat[vocab_idx[final_words[i]]],co_occur_mat[vocab_idx[final_words[j]]])\n",
        "  return similarity_mat,final_words"
      ],
      "metadata": {
        "id": "Y_yTkFMzY3g7"
      },
      "execution_count": null,
      "outputs": []
    },
    {
      "cell_type": "code",
      "source": [
        "similarity_mat, keywords = compute_sim_mat(concept_1,concept_2,concept_3)"
      ],
      "metadata": {
        "id": "YluuSiZgbt-5"
      },
      "execution_count": null,
      "outputs": []
    },
    {
      "cell_type": "code",
      "source": [
        "concepts = {\n",
        "    'Viruses and Mutations':concept_1,\n",
        "    'Health Impact': concept_2,\n",
        "    'Pandemic and Containment Measures': concept_3\n",
        "}\n",
        "\n",
        "color_map = {\n",
        "    'Viruses and Mutations' : 'blue',\n",
        "    'Health Impact' : 'green',\n",
        "    'Pandemic and Containment Measures' : 'red'\n",
        "}\n",
        "\n",
        "colors = []\n",
        "for keyword in keywords:\n",
        "    for concept, words in concepts.items():\n",
        "        if keyword in words:\n",
        "            colors.append(color_map[concept])\n",
        "            break"
      ],
      "metadata": {
        "id": "czAn0Uupij6E"
      },
      "execution_count": null,
      "outputs": []
    },
    {
      "cell_type": "markdown",
      "source": [
        "- Using MDS library of Python"
      ],
      "metadata": {
        "id": "1geDJ0pCpZbO"
      }
    },
    {
      "cell_type": "code",
      "source": [
        "mds = MDS(n_components=2, dissimilarity='precomputed', random_state=1, normalized_stress='auto')\n",
        "coords = mds.fit_transform(1 - similarity_mat)\n",
        "plt.figure(figsize=(10, 10))\n",
        "plt.scatter(coords[:, 0], coords[:, 1], color=colors, s=100)\n",
        "\n",
        "for i, keyword in enumerate(keywords):\n",
        "    x_offset = 0.01\n",
        "    y_offset = 0.01\n",
        "    plt.annotate(keyword, (coords[i, 0] + x_offset, coords[i, 1] + y_offset),\n",
        "                 fontsize=10, ha='center', rotation=30)  # Rotate text by 30 degrees\n",
        "\n",
        "plt.title('MDS Visualization of COVID-19 Concepts', fontsize=16)\n",
        "plt.xlabel('Dimension 1', fontsize=14)\n",
        "plt.ylabel('Dimension 2', fontsize=14)\n",
        "plt.grid(True)\n",
        "plt.show()\n"
      ],
      "metadata": {
        "colab": {
          "base_uri": "https://localhost:8080/",
          "height": 879
        },
        "id": "GGvx3LeTfHfq",
        "outputId": "fb3b1364-0e15-4ad4-883b-14f9b1ff59d3"
      },
      "execution_count": null,
      "outputs": [
        {
          "output_type": "display_data",
          "data": {
            "text/plain": [
              "<Figure size 1000x1000 with 1 Axes>"
            ],
            "image/png": "[encoded data removed]"
          },
          "metadata": {}
        }
      ]
    }
  ],
  "metadata": {
    "colab": {
      "provenance": [],
      "include_colab_link": true
    },
    "kernelspec": {
      "display_name": "Python 3",
      "name": "python3"
    },
    "language_info": {
      "name": "python"
    }
  },
  "nbformat": 4,
  "nbformat_minor": 0
}