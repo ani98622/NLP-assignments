{
  "metadata": {
    "kernelspec": {
      "language": "python",
      "display_name": "Python 3",
      "name": "python3"
    },
    "language_info": {
      "name": "python",
      "version": "3.10.14",
      "mimetype": "text/x-python",
      "codemirror_mode": {
        "name": "ipython",
        "version": 3
      },
      "pygments_lexer": "ipython3",
      "nbconvert_exporter": "python",
      "file_extension": ".py"
    },
    "kaggle": {
      "accelerator": "nvidiaTeslaT4",
      "dataSources": [
        {
          "sourceId": 9690568,
          "sourceType": "datasetVersion",
          "datasetId": 5924383
        },
        {
          "sourceId": 9690850,
          "sourceType": "datasetVersion",
          "datasetId": 5924616
        },
        {
          "sourceId": 9707527,
          "sourceType": "datasetVersion",
          "datasetId": 5937246
        },
        {
          "sourceId": 9712603,
          "sourceType": "datasetVersion",
          "datasetId": 5941210
        }
      ],
      "dockerImageVersionId": 30787,
      "isInternetEnabled": true,
      "language": "python",
      "sourceType": "notebook",
      "isGpuEnabled": true
    },
    "colab": {
      "provenance": [],
      "include_colab_link": true
    }
  },
  "nbformat_minor": 0,
  "nbformat": 4,
  "cells": [
    {
      "cell_type": "markdown",
      "metadata": {
        "id": "view-in-github",
        "colab_type": "text"
      },
      "source": [
        "<a href=\"https://colab.research.google.com/github/ani98622/NLP-assignments/blob/main/AniketMDS202308_Assignment_04%2605.ipynb\" target=\"_parent\"><img src=\"https://colab.research.google.com/assets/colab-badge.svg\" alt=\"Open In Colab\"/></a>"
      ]
    },
    {
      "cell_type": "markdown",
      "source": [
        "## Name: Aniket Tiwari Assignment -04 & 05"
      ],
      "metadata": {
        "id": "wQJi605QL4zI"
      }
    },
    {
      "cell_type": "markdown",
      "source": [
        "### Assignment - 04"
      ],
      "metadata": {
        "_kg_hide-input": false,
        "id": "Lz1QZkGDL4zK"
      }
    },
    {
      "cell_type": "markdown",
      "source": [
        "#### Block 0: Imports and NLTK Downloads"
      ],
      "metadata": {
        "id": "ya2P86tdL4zL"
      }
    },
    {
      "cell_type": "code",
      "source": [
        "import re\n",
        "import json\n",
        "import os\n",
        "import shutil\n",
        "import string\n",
        "import numpy as np\n",
        "from collections import Counter\n",
        "import nltk\n",
        "from nltk.corpus import stopwords\n",
        "import tensorflow as tf\n",
        "from tensorflow.keras import layers\n",
        "\n",
        "# Download NLTK stopwords\n",
        "nltk.download('stopwords')"
      ],
      "metadata": {
        "execution": {
          "iopub.status.busy": "2024-10-25T03:29:49.540217Z",
          "iopub.execute_input": "2024-10-25T03:29:49.541016Z",
          "iopub.status.idle": "2024-10-25T03:29:49.548926Z",
          "shell.execute_reply.started": "2024-10-25T03:29:49.540977Z",
          "shell.execute_reply": "2024-10-25T03:29:49.547961Z"
        },
        "trusted": true,
        "id": "7vu-dqR5L4zL",
        "outputId": "f35d3119-d54b-419f-c0c6-295c1e76c421"
      },
      "execution_count": null,
      "outputs": [
        {
          "name": "stdout",
          "text": "[nltk_data] Downloading package stopwords to /usr/share/nltk_data...\n[nltk_data]   Package stopwords is already up-to-date!\n",
          "output_type": "stream"
        },
        {
          "execution_count": 4,
          "output_type": "execute_result",
          "data": {
            "text/plain": "True"
          },
          "metadata": {}
        }
      ]
    },
    {
      "cell_type": "code",
      "source": [
        "from google.colab import drive\n",
        "drive.mount('/content/drive')"
      ],
      "metadata": {
        "id": "xLASadCeL4zN"
      },
      "execution_count": null,
      "outputs": []
    },
    {
      "cell_type": "markdown",
      "source": [
        "#### Block 1: Extracting Abstracts from JSON Files"
      ],
      "metadata": {
        "id": "HJKJH0pDL4zO"
      }
    },
    {
      "cell_type": "code",
      "source": [
        "folder_path = '/content/drive/MyDrive/Assign/pdf_json/'\n",
        "abstracts = []\n",
        "\n",
        "def preprocess(text):\n",
        "    text = text.strip().lower()\n",
        "    text = re.sub(r'[^\\w\\s]', '', text)\n",
        "    text = re.sub(r'\\d+', '', text)\n",
        "    words = word_tokenize(text)\n",
        "    words = [lemmatizer.lemmatize(word) for word in words if word not in stop_words and len(word)>2]\n",
        "    return ' '.join(words)\n",
        "\n",
        "def extract_abstracts_from_file(file_path):\n",
        "    \"\"\"Extract abstracts from a JSON file and preprocess them.\"\"\"\n",
        "    with open(file_path, 'r') as f:\n",
        "        data = json.load(f)\n",
        "\n",
        "        if \"abstract\" in data:\n",
        "            for item in data['abstract']:\n",
        "                if 'text' in item:\n",
        "                    text = item['text']\n",
        "                    processed_text = preprocess(text)\n",
        "                    abstracts.append(processed_text)\n",
        "\n",
        "for filename in os.listdir(folder_path):\n",
        "    if filename.endswith(\".json\"):\n",
        "        file_path = os.path.join(folder_path, filename)\n",
        "        extract_abstracts_from_file(file_path)\n",
        "\n",
        "with open('preprocessed.txt', 'w') as output_file:\n",
        "    for abstract in abstracts:\n",
        "        output_file.write(abstract + '\\n')"
      ],
      "metadata": {
        "trusted": true,
        "id": "cTRO4DmIL4zO"
      },
      "execution_count": null,
      "outputs": []
    },
    {
      "cell_type": "markdown",
      "source": [
        "#### Block 2: Building Vocabulary from processed abstracts and filter the corpus"
      ],
      "metadata": {
        "id": "8D_1P5paL4zP"
      }
    },
    {
      "cell_type": "code",
      "source": [
        "FILE_PATH = '/content/drive/MyDrive/Assign/extracted_abstracts.txt'\n",
        "max_vocab_size = 10000\n",
        "sentences = []\n",
        "\n",
        "# Step 1: Read processed abstracts from the file\n",
        "with open(FILE_PATH, 'r') as processed_file:\n",
        "    sentences = processed_file.readlines()\n",
        "\n",
        "# Step 2: Count word frequencies using Counter\n",
        "word_counter = Counter()\n",
        "for sentence in sentences:\n",
        "    word_counter.update(sentence.strip().split())\n",
        "\n",
        "# Step 3: Keep the most frequent `max_vocab_size` words\n",
        "most_common_words = [word for word, _ in word_counter.most_common(max_vocab_size)]\n",
        "\n",
        "# Step 4: Create a vocabulary dictionary with the most frequent words\n",
        "vocab_dict = {word: i for i, word in enumerate(most_common_words)}\n",
        "\n",
        "# Step 5: Filter sentences to only include words in the vocabulary\n",
        "filtered_sentences = []\n",
        "with open(\"filtered_sentences.txt\", \"w\") as file:\n",
        "    for sentence in sentences:\n",
        "        filtered_sentence = [word for word in sentence.split() if word in vocab_dict]\n",
        "        if filtered_sentence:\n",
        "            file.write(\" \".join(filtered_sentence) + \"\\n\")\n",
        "            filtered_sentences.append(filtered_sentence)"
      ],
      "metadata": {
        "execution": {
          "iopub.status.busy": "2024-10-25T03:15:53.1996Z",
          "iopub.execute_input": "2024-10-25T03:15:53.199974Z",
          "iopub.status.idle": "2024-10-25T03:15:56.278686Z",
          "shell.execute_reply.started": "2024-10-25T03:15:53.199938Z",
          "shell.execute_reply": "2024-10-25T03:15:56.277706Z"
        },
        "trusted": true,
        "id": "EIaUsV8hL4zQ"
      },
      "execution_count": null,
      "outputs": []
    },
    {
      "cell_type": "markdown",
      "source": [
        "### Block 4: Imports and Model Definition\n",
        "\n",
        "The following model is designed for word embedding tasks using TensorFlow/Keras. It consists of two main layers:\n",
        "\n",
        "1. **Input Layer:**\n",
        "   - Shape: `(vocab_count,)`\n",
        "   - The input shape corresponds to the size of the vocabulary.\n",
        "\n",
        "2. **Dense Layer (Embedding Layer):**\n",
        "   - Units: `embedding_dim`\n",
        "   - Activation: `linear`\n",
        "   - This layer is used to project the input vocabulary into a dense vector space with the specified `embedding_dim`.\n",
        "\n",
        "3. **Dense Layer (Output Layer):**\n",
        "   - Units: `vocab_count`\n",
        "   - Activation: `softmax`\n",
        "   - This layer outputs a probability distribution over the entire vocabulary using the softmax activation function.\n",
        "\n",
        "### Compilation:\n",
        "- **Optimizer**: `SGD (Stochastic Gradient Descent)`\n",
        "- **Loss Function**: `categorical_crossentropy`"
      ],
      "metadata": {
        "id": "9p6-eN22L4zR"
      }
    },
    {
      "cell_type": "code",
      "source": [
        "import numpy as np\n",
        "import tensorflow as tf\n",
        "from tensorflow.keras import layers\n",
        "import matplotlib.pyplot as plt\n",
        "\n",
        "def build_embedding_model(vocab_count, embedding_dim):\n",
        "    embedding_net = tf.keras.Sequential([\n",
        "        layers.Input(shape=(vocab_count,)),\n",
        "        layers.Dense(embedding_dim, activation='linear'),  # Embedding layer\n",
        "        layers.Dense(vocab_count, activation='softmax')  # Output layer\n",
        "    ])\n",
        "\n",
        "    embedding_net.compile(optimizer='sgd', loss='categorical_crossentropy')  # Using SGD for optimization\n",
        "    return embedding_net"
      ],
      "metadata": {
        "execution": {
          "iopub.status.busy": "2024-10-24T08:25:30.069263Z",
          "iopub.execute_input": "2024-10-24T08:25:30.069948Z",
          "iopub.status.idle": "2024-10-24T08:25:30.07624Z",
          "shell.execute_reply.started": "2024-10-24T08:25:30.069906Z",
          "shell.execute_reply": "2024-10-24T08:25:30.075243Z"
        },
        "trusted": true,
        "id": "-ZpGc4JxL4zR"
      },
      "execution_count": null,
      "outputs": []
    },
    {
      "cell_type": "markdown",
      "source": [
        "### Block 5: Model Parameters and Summary"
      ],
      "metadata": {
        "id": "wz7zX7UbL4zS"
      }
    },
    {
      "cell_type": "code",
      "source": [
        "embedding_dimensions = 110\n",
        "embedding_model = build_embedding_model(len(vocab_dict), embedding_dimensions)\n",
        "embedding_model.summary()"
      ],
      "metadata": {
        "execution": {
          "iopub.status.busy": "2024-10-24T08:25:32.069386Z",
          "iopub.execute_input": "2024-10-24T08:25:32.070159Z",
          "iopub.status.idle": "2024-10-24T08:25:33.192612Z",
          "shell.execute_reply.started": "2024-10-24T08:25:32.070116Z",
          "shell.execute_reply": "2024-10-24T08:25:33.191654Z"
        },
        "trusted": true,
        "id": "Kmzjd8cFL4zS",
        "outputId": "89febf5b-efd1-46f2-f4f4-6ccb5656a80d"
      },
      "execution_count": null,
      "outputs": [
        {
          "output_type": "display_data",
          "data": {
            "text/plain": "\u001b[1mModel: \"sequential\"\u001b[0m\n",
            "text/html": "<pre style=\"white-space:pre;overflow-x:auto;line-height:normal;font-family:Menlo,'DejaVu Sans Mono',consolas,'Courier New',monospace\"><span style=\"font-weight: bold\">Model: \"sequential\"</span>\n</pre>\n"
          },
          "metadata": {}
        },
        {
          "output_type": "display_data",
          "data": {
            "text/plain": "┏━━━━━━━━━━━━━━━━━━━━━━━━━━━━━━━━━┳━━━━━━━━━━━━━━━━━━━━━━━━┳━━━━━━━━━━━━━━━┓\n┃\u001b[1m \u001b[0m\u001b[1mLayer (type)                   \u001b[0m\u001b[1m \u001b[0m┃\u001b[1m \u001b[0m\u001b[1mOutput Shape          \u001b[0m\u001b[1m \u001b[0m┃\u001b[1m \u001b[0m\u001b[1m      Param #\u001b[0m\u001b[1m \u001b[0m┃\n┡━━━━━━━━━━━━━━━━━━━━━━━━━━━━━━━━━╇━━━━━━━━━━━━━━━━━━━━━━━━╇━━━━━━━━━━━━━━━┩\n│ dense (\u001b[38;5;33mDense\u001b[0m)                   │ (\u001b[38;5;45mNone\u001b[0m, \u001b[38;5;34m110\u001b[0m)            │     \u001b[38;5;34m1,100,110\u001b[0m │\n├─────────────────────────────────┼────────────────────────┼───────────────┤\n│ dense_1 (\u001b[38;5;33mDense\u001b[0m)                 │ (\u001b[38;5;45mNone\u001b[0m, \u001b[38;5;34m10000\u001b[0m)          │     \u001b[38;5;34m1,110,000\u001b[0m │\n└─────────────────────────────────┴────────────────────────┴───────────────┘\n",
            "text/html": "<pre style=\"white-space:pre;overflow-x:auto;line-height:normal;font-family:Menlo,'DejaVu Sans Mono',consolas,'Courier New',monospace\">┏━━━━━━━━━━━━━━━━━━━━━━━━━━━━━━━━━┳━━━━━━━━━━━━━━━━━━━━━━━━┳━━━━━━━━━━━━━━━┓\n┃<span style=\"font-weight: bold\"> Layer (type)                    </span>┃<span style=\"font-weight: bold\"> Output Shape           </span>┃<span style=\"font-weight: bold\">       Param # </span>┃\n┡━━━━━━━━━━━━━━━━━━━━━━━━━━━━━━━━━╇━━━━━━━━━━━━━━━━━━━━━━━━╇━━━━━━━━━━━━━━━┩\n│ dense (<span style=\"color: #0087ff; text-decoration-color: #0087ff\">Dense</span>)                   │ (<span style=\"color: #00d7ff; text-decoration-color: #00d7ff\">None</span>, <span style=\"color: #00af00; text-decoration-color: #00af00\">110</span>)            │     <span style=\"color: #00af00; text-decoration-color: #00af00\">1,100,110</span> │\n├─────────────────────────────────┼────────────────────────┼───────────────┤\n│ dense_1 (<span style=\"color: #0087ff; text-decoration-color: #0087ff\">Dense</span>)                 │ (<span style=\"color: #00d7ff; text-decoration-color: #00d7ff\">None</span>, <span style=\"color: #00af00; text-decoration-color: #00af00\">10000</span>)          │     <span style=\"color: #00af00; text-decoration-color: #00af00\">1,110,000</span> │\n└─────────────────────────────────┴────────────────────────┴───────────────┘\n</pre>\n"
          },
          "metadata": {}
        },
        {
          "output_type": "display_data",
          "data": {
            "text/plain": "\u001b[1m Total params: \u001b[0m\u001b[38;5;34m2,210,110\u001b[0m (8.43 MB)\n",
            "text/html": "<pre style=\"white-space:pre;overflow-x:auto;line-height:normal;font-family:Menlo,'DejaVu Sans Mono',consolas,'Courier New',monospace\"><span style=\"font-weight: bold\"> Total params: </span><span style=\"color: #00af00; text-decoration-color: #00af00\">2,210,110</span> (8.43 MB)\n</pre>\n"
          },
          "metadata": {}
        },
        {
          "output_type": "display_data",
          "data": {
            "text/plain": "\u001b[1m Trainable params: \u001b[0m\u001b[38;5;34m2,210,110\u001b[0m (8.43 MB)\n",
            "text/html": "<pre style=\"white-space:pre;overflow-x:auto;line-height:normal;font-family:Menlo,'DejaVu Sans Mono',consolas,'Courier New',monospace\"><span style=\"font-weight: bold\"> Trainable params: </span><span style=\"color: #00af00; text-decoration-color: #00af00\">2,210,110</span> (8.43 MB)\n</pre>\n"
          },
          "metadata": {}
        },
        {
          "output_type": "display_data",
          "data": {
            "text/plain": "\u001b[1m Non-trainable params: \u001b[0m\u001b[38;5;34m0\u001b[0m (0.00 B)\n",
            "text/html": "<pre style=\"white-space:pre;overflow-x:auto;line-height:normal;font-family:Menlo,'DejaVu Sans Mono',consolas,'Courier New',monospace\"><span style=\"font-weight: bold\"> Non-trainable params: </span><span style=\"color: #00af00; text-decoration-color: #00af00\">0</span> (0.00 B)\n</pre>\n"
          },
          "metadata": {}
        }
      ]
    },
    {
      "cell_type": "markdown",
      "source": [
        "### Block 6: Generate Target-Context Pairs\n",
        "This block contains a function to create target-context word pairs from the text corpus. For each target word in a sentence, we generate pairs based on a defined context window, which determines how many words around the target word are considered as context."
      ],
      "metadata": {
        "id": "78WUmDckL4zT"
      }
    },
    {
      "cell_type": "code",
      "source": [
        "def create_target_context_pairs(text_corpus, context_window=2):\n",
        "    pairs = []\n",
        "\n",
        "    for sentence in text_corpus:\n",
        "        for position, target_word in enumerate(sentence):\n",
        "            start_index = max(0, position - context_window)\n",
        "            end_index = min(len(sentence), position + context_window + 1)\n",
        "\n",
        "            for context_word in sentence[start_index:position] + sentence[position + 1:end_index]:\n",
        "                pairs.append((target_word, context_word))\n",
        "    return pairs\n",
        "\n",
        "training_word_pairs = create_target_context_pairs(filtered_sentences)"
      ],
      "metadata": {
        "execution": {
          "iopub.status.busy": "2024-10-24T08:25:36.589735Z",
          "iopub.execute_input": "2024-10-24T08:25:36.590131Z",
          "iopub.status.idle": "2024-10-24T08:25:46.033102Z",
          "shell.execute_reply.started": "2024-10-24T08:25:36.590094Z",
          "shell.execute_reply": "2024-10-24T08:25:46.032265Z"
        },
        "trusted": true,
        "id": "tbIPeYuQL4zT"
      },
      "execution_count": null,
      "outputs": []
    },
    {
      "cell_type": "markdown",
      "source": [
        "### Block 7: Prepare Input and Output Data\n",
        "In this block, we prepare the input and output data for training. We convert the target-context pairs into numerical indices using the vocabulary dictionary and print the shapes of the resulting arrays along with sample data."
      ],
      "metadata": {
        "id": "IFWCP-8WL4zU"
      }
    },
    {
      "cell_type": "code",
      "source": [
        "inputs, outputs = [], []\n",
        "\n",
        "for target, context in training_word_pairs:\n",
        "    inputs.append(vocab_dict[target])\n",
        "    outputs.append(vocab_dict[context])\n",
        "\n",
        "input_data = np.array(inputs)\n",
        "output_data = np.array(outputs)\n",
        "\n",
        "print(\"Input data shape:\", input_data.shape)\n",
        "print(\"Output data shape:\", output_data.shape)\n",
        "print(\"Sample Input:\", input_data[50:55])\n",
        "print(\"Sample Output:\", output_data[50:55])"
      ],
      "metadata": {
        "execution": {
          "iopub.status.busy": "2024-10-24T08:26:17.480051Z",
          "iopub.execute_input": "2024-10-24T08:26:17.480453Z",
          "iopub.status.idle": "2024-10-24T08:26:28.903247Z",
          "shell.execute_reply.started": "2024-10-24T08:26:17.480415Z",
          "shell.execute_reply": "2024-10-24T08:26:28.902242Z"
        },
        "trusted": true,
        "id": "VQtTRq7mL4zU",
        "outputId": "35576abd-09a6-41eb-d3be-38b9931f4814"
      },
      "execution_count": null,
      "outputs": [
        {
          "name": "stdout",
          "text": "Input data shape: (18174288,)\nOutput data shape: (18174288,)\nSample Input: [1582 1582 1582    6    6]\nSample Output: [ 713    6 4921  713 1582]\n",
          "output_type": "stream"
        }
      ]
    },
    {
      "cell_type": "markdown",
      "source": [
        "### Block 8: One-Hot Encoding Function\n",
        "This block defines a function that generates one-hot vectors for the input indices. Each index is transformed into a binary vector representing its position in the vocabulary."
      ],
      "metadata": {
        "id": "fw0CIg5_L4zU"
      }
    },
    {
      "cell_type": "code",
      "source": [
        "def generate_one_hot(index, total_vocab):\n",
        "    one_hot_vector = np.zeros(total_vocab)\n",
        "    one_hot_vector[index] = 1\n",
        "    return one_hot_vector"
      ],
      "metadata": {
        "execution": {
          "iopub.status.busy": "2024-10-24T08:26:31.149269Z",
          "iopub.execute_input": "2024-10-24T08:26:31.150144Z",
          "iopub.status.idle": "2024-10-24T08:26:31.154526Z",
          "shell.execute_reply.started": "2024-10-24T08:26:31.150103Z",
          "shell.execute_reply": "2024-10-24T08:26:31.153627Z"
        },
        "trusted": true,
        "id": "zMuwlO7FL4zU"
      },
      "execution_count": null,
      "outputs": []
    },
    {
      "cell_type": "markdown",
      "source": [
        "### Block 9: Data Generator\n",
        "This allows for efficient data loading in batches during model training by generating data `on-the-fly` to prevent `out of memory error`.\n"
      ],
      "metadata": {
        "id": "cgX536M5L4zV"
      }
    },
    {
      "cell_type": "code",
      "source": [
        "def batch_data_generator(input_data, output_data, batch_size):\n",
        "    total_samples = len(input_data)\n",
        "\n",
        "    while True:\n",
        "        for i in range(0, total_samples, batch_size):\n",
        "            input_batch = input_data[i:i + batch_size]\n",
        "            output_batch = output_data[i:i + batch_size]\n",
        "\n",
        "            one_hot_inputs = np.array([generate_one_hot(index, max_vocab_size) for index in input_batch])\n",
        "            one_hot_outputs = np.array([generate_one_hot(index, max_vocab_size) for index in output_batch])\n",
        "\n",
        "            yield one_hot_inputs, one_hot_outputs"
      ],
      "metadata": {
        "execution": {
          "iopub.status.busy": "2024-10-24T08:26:34.629055Z",
          "iopub.execute_input": "2024-10-24T08:26:34.629966Z",
          "iopub.status.idle": "2024-10-24T08:26:34.636159Z",
          "shell.execute_reply.started": "2024-10-24T08:26:34.629925Z",
          "shell.execute_reply": "2024-10-24T08:26:34.635243Z"
        },
        "trusted": true,
        "id": "hVay2oZrL4zV"
      },
      "execution_count": null,
      "outputs": []
    },
    {
      "cell_type": "markdown",
      "source": [
        "### Block 10: Model Training\n",
        "Here, we train the skip-gram model using the training data generator. We specify the number of epochs and steps per epoch to control the training process.\n"
      ],
      "metadata": {
        "id": "4wYbHPgtL4zV"
      }
    },
    {
      "cell_type": "code",
      "source": [
        "training_batch_size = 256\n",
        "\n",
        "training_history = embedding_model.fit(\n",
        "    batch_data_generator(input_data, output_data, training_batch_size),\n",
        "    epochs=10,\n",
        "    steps_per_epoch=len(input_data) // training_batch_size\n",
        ")"
      ],
      "metadata": {
        "execution": {
          "iopub.status.busy": "2024-10-24T08:26:50.699175Z",
          "iopub.execute_input": "2024-10-24T08:26:50.699841Z",
          "iopub.status.idle": "2024-10-24T11:41:05.557135Z",
          "shell.execute_reply.started": "2024-10-24T08:26:50.6998Z",
          "shell.execute_reply": "2024-10-24T11:41:05.555926Z"
        },
        "trusted": true,
        "id": "GRe4LmN_L4zW",
        "outputId": "eea32e98-0210-4d48-edd4-0b76a32de75d"
      },
      "execution_count": null,
      "outputs": [
        {
          "name": "stdout",
          "text": "Epoch 1/10\n\u001b[1m70993/70993\u001b[0m \u001b[32m━━━━━━━━━━━━━━━━━━━━\u001b[0m\u001b[37m\u001b[0m \u001b[1m1181s\u001b[0m 17ms/step - loss: 8.5905\nEpoch 2/10\n\u001b[1m70993/70993\u001b[0m \u001b[32m━━━━━━━━━━━━━━━━━━━━\u001b[0m\u001b[37m\u001b[0m \u001b[1m1163s\u001b[0m 16ms/step - loss: 7.9450\nEpoch 3/10\n\u001b[1m70993/70993\u001b[0m \u001b[32m━━━━━━━━━━━━━━━━━━━━\u001b[0m\u001b[37m\u001b[0m \u001b[1m1169s\u001b[0m 16ms/step - loss: 7.9428\nEpoch 4/10\n\u001b[1m70993/70993\u001b[0m \u001b[32m━━━━━━━━━━━━━━━━━━━━\u001b[0m\u001b[37m\u001b[0m \u001b[1m1167s\u001b[0m 16ms/step - loss: 7.9417\nEpoch 5/10\n\u001b[1m70993/70993\u001b[0m \u001b[32m━━━━━━━━━━━━━━━━━━━━\u001b[0m\u001b[37m\u001b[0m \u001b[1m1157s\u001b[0m 16ms/step - loss: 7.9405\nEpoch 6/10\n\u001b[1m70993/70993\u001b[0m \u001b[32m━━━━━━━━━━━━━━━━━━━━\u001b[0m\u001b[37m\u001b[0m \u001b[1m1168s\u001b[0m 16ms/step - loss: 7.9381\nEpoch 7/10\n\u001b[1m70993/70993\u001b[0m \u001b[32m━━━━━━━━━━━━━━━━━━━━\u001b[0m\u001b[37m\u001b[0m \u001b[1m1166s\u001b[0m 16ms/step - loss: 7.9336\nEpoch 8/10\n\u001b[1m70993/70993\u001b[0m \u001b[32m━━━━━━━━━━━━━━━━━━━━\u001b[0m\u001b[37m\u001b[0m \u001b[1m1154s\u001b[0m 16ms/step - loss: 7.9267\nEpoch 9/10\n\u001b[1m70993/70993\u001b[0m \u001b[32m━━━━━━━━━━━━━━━━━━━━\u001b[0m\u001b[37m\u001b[0m \u001b[1m1166s\u001b[0m 16ms/step - loss: 7.9211\nEpoch 10/10\n\u001b[1m70993/70993\u001b[0m \u001b[32m━━━━━━━━━━━━━━━━━━━━\u001b[0m\u001b[37m\u001b[0m \u001b[1m1163s\u001b[0m 16ms/step - loss: 7.9167\n",
          "output_type": "stream"
        }
      ]
    },
    {
      "cell_type": "markdown",
      "source": [
        "### Block 11: Plot Training Loss\n",
        "In this block, we visualize the training loss over the epochs. This plot helps us understand how the model's performance improves over time during training.\n"
      ],
      "metadata": {
        "id": "euAPYv3NL4zW"
      }
    },
    {
      "cell_type": "code",
      "source": [
        "plt.plot(training_history.history['loss'])\n",
        "plt.xlabel('Epochs')\n",
        "plt.ylabel('Loss')\n",
        "plt.title('Loss vs. Epochs')\n",
        "plt.show()"
      ],
      "metadata": {
        "execution": {
          "iopub.status.busy": "2024-10-24T11:41:05.559393Z",
          "iopub.execute_input": "2024-10-24T11:41:05.559744Z",
          "iopub.status.idle": "2024-10-24T11:41:05.899249Z",
          "shell.execute_reply.started": "2024-10-24T11:41:05.55971Z",
          "shell.execute_reply": "2024-10-24T11:41:05.8983Z"
        },
        "trusted": true,
        "id": "B1ZriSQwL4zW",
        "outputId": "9c019c79-e1a0-4c62-b4eb-edf4a4e6f4e7"
      },
      "execution_count": null,
      "outputs": [
        {
          "output_type": "display_data",
          "data": {
            "text/plain": "<Figure size 640x480 with 1 Axes>",
            "image/png": "[encoded data removed]"
          },
          "metadata": {}
        }
      ]
    },
    {
      "cell_type": "markdown",
      "source": [
        "#### Block 12 : Save the Model"
      ],
      "metadata": {
        "id": "YoBXFS5wL4zY"
      }
    },
    {
      "cell_type": "code",
      "source": [
        "embedding_model.save('skipgram_model_raw_10_110.h5')\n",
        "shutil.move('skipgram_model_raw_10_110.h5', '/content/drive/MyDrive/Assign/skipgram_model_raw_10_110.h5')"
      ],
      "metadata": {
        "execution": {
          "iopub.status.busy": "2024-10-25T05:35:24.172175Z",
          "iopub.execute_input": "2024-10-25T05:35:24.172855Z",
          "iopub.status.idle": "2024-10-25T05:35:24.17754Z",
          "shell.execute_reply.started": "2024-10-25T05:35:24.172816Z",
          "shell.execute_reply": "2024-10-25T05:35:24.176578Z"
        },
        "trusted": true,
        "id": "Hkx4bX0fL4zY",
        "outputId": "0f8521c0-51de-4d84-f7eb-d59752894f79"
      },
      "execution_count": null,
      "outputs": [
        {
          "name": "stdout",
          "text": "'/content/drive/MyDrive/Assign/skipgram_model_raw_10_110.h5' \n",
          "output_type": "stream"
        }
      ]
    },
    {
      "cell_type": "markdown",
      "source": [
        "#### Block 12 : Checking Our Naive Skipgram Model"
      ],
      "metadata": {
        "id": "qSC0nkC7L4zZ"
      }
    },
    {
      "cell_type": "code",
      "source": [
        "from sklearn.metrics.pairwise import cosine_similarity\n",
        "\n",
        "def tokenize_corpus(vocab_dict):\n",
        "    word_to_id = vocab_dict\n",
        "    id_to_word = {id: word for word, id in word_to_id.items()}\n",
        "    return list(vocab_dict.keys()), word_to_id, id_to_word\n",
        "\n",
        "embedding_layer = embedding_model.layers[0]\n",
        "word_embeddings = embedding_layer.get_weights()[0]\n",
        "_,word_to_id,id_to_word = tokenize_corpus(vocab_dict)\n",
        "\n",
        "def find_similar_words(word, top_n=5):\n",
        "    word_idx = word_to_id[word]\n",
        "    word_vector = word_embeddings[word_idx].reshape(1, -1)\n",
        "    similarities = cosine_similarity(word_vector, word_embeddings)[0]\n",
        "    similar_word_indices = similarities.argsort()[-top_n-1:-1][::-1]\n",
        "    similar_words = [(id_to_word[idx], similarities[idx]) for idx in similar_word_indices]\n",
        "\n",
        "    return similar_words\n",
        "\n",
        "similar_words = find_similar_words('covid', top_n=12)\n",
        "print([similar_word[0] for similar_word in similar_words])"
      ],
      "metadata": {
        "execution": {
          "iopub.status.busy": "2024-10-25T03:56:45.501036Z",
          "iopub.execute_input": "2024-10-25T03:56:45.501769Z",
          "iopub.status.idle": "2024-10-25T03:56:45.506417Z",
          "shell.execute_reply.started": "2024-10-25T03:56:45.501731Z",
          "shell.execute_reply": "2024-10-25T03:56:45.505469Z"
        },
        "trusted": true,
        "id": "NAw7dvJ7L4zZ",
        "outputId": "6d29b328-97ab-48ef-e10c-ccfb1321deea"
      },
      "execution_count": null,
      "outputs": [
        {
          "name": "stdout",
          "text": "['patient', 'hospitalized', 'global', 'reported', 'worldwide', 'admitted', 'outcome', 'control', 'affected', 'confirmed', 'admission', 'current']\n\n",
          "output_type": "stream"
        }
      ]
    },
    {
      "cell_type": "markdown",
      "source": [
        "### Implement Negative Sampling\n",
        "### Block 0: Import libraries and define parameters"
      ],
      "metadata": {
        "id": "5CvMpncpL4za"
      }
    },
    {
      "cell_type": "code",
      "source": [
        "import torch\n",
        "import torch.nn as nn\n",
        "import torch.optim as optim\n",
        "import numpy as np\n",
        "from torch.utils.data import Dataset, DataLoader\n",
        "import matplotlib.pyplot as plt\n",
        "\n",
        "embed_size = 150\n",
        "context_window = 2\n",
        "neg_sample_count = 5\n",
        "lr_rate = 0.05\n",
        "epoch_count =200\n",
        "batch_sz = 32"
      ],
      "metadata": {
        "execution": {
          "iopub.status.busy": "2024-10-25T04:39:45.372408Z",
          "iopub.execute_input": "2024-10-25T04:39:45.372801Z",
          "iopub.status.idle": "2024-10-25T04:39:45.378746Z",
          "shell.execute_reply.started": "2024-10-25T04:39:45.372765Z",
          "shell.execute_reply": "2024-10-25T04:39:45.377711Z"
        },
        "trusted": true,
        "id": "oI9GkQq4L4zb"
      },
      "execution_count": null,
      "outputs": []
    },
    {
      "cell_type": "markdown",
      "source": [
        "### Block 1: Building Training Pairs\n",
        "This block defines the `build_training_pairs` function, which creates training pairs of target and context words based on the specified context window. For each target word, it identifies its surrounding context words and constructs pairs, which are then returned for training."
      ],
      "metadata": {
        "id": "LvydaTw4L4zb"
      }
    },
    {
      "cell_type": "code",
      "source": [
        "def build_training_pairs(words_list, word_to_id, window_size):\n",
        "    training_pairs = []\n",
        "    for idx in range(window_size, len(words_list) - window_size):\n",
        "        target_word = word_to_id[words_list[idx]]\n",
        "        context_words = [word_to_id[words_list[idx - j - 1]] for j in range(window_size)]\n",
        "        context_words += [word_to_id[words_list[idx + j + 1]] for j in range(window_size)]\n",
        "        for ctx_word in context_words:\n",
        "            training_pairs.append((target_word, ctx_word))\n",
        "    return training_pairs"
      ],
      "metadata": {
        "execution": {
          "iopub.status.busy": "2024-10-25T04:39:55.972105Z",
          "iopub.execute_input": "2024-10-25T04:39:55.972488Z",
          "iopub.status.idle": "2024-10-25T04:39:55.979178Z",
          "shell.execute_reply.started": "2024-10-25T04:39:55.972452Z",
          "shell.execute_reply": "2024-10-25T04:39:55.978138Z"
        },
        "trusted": true,
        "id": "rmwbtHQ2L4zb"
      },
      "execution_count": null,
      "outputs": []
    },
    {
      "cell_type": "markdown",
      "source": [
        "### Block 2: Generating Negative Samples\n",
        "This block defines the `generate_negative_samples` function, which generates a set of negative samples for a given target word. The function ensures that the negative samples are distinct and do not include the target word itself.\n"
      ],
      "metadata": {
        "id": "DcO6USw-L4zc"
      }
    },
    {
      "cell_type": "code",
      "source": [
        "def generate_negative_samples(target_idx, neg_sample_count, vocab_sz):\n",
        "    negative_samples = set()\n",
        "    while len(negative_samples) < neg_sample_count:\n",
        "        rand_sample = np.random.randint(0, vocab_sz)\n",
        "        if rand_sample != target_idx:\n",
        "            negative_samples.add(rand_sample)\n",
        "    return list(negative_samples)"
      ],
      "metadata": {
        "execution": {
          "iopub.status.busy": "2024-10-25T04:39:56.417767Z",
          "iopub.execute_input": "2024-10-25T04:39:56.418624Z",
          "iopub.status.idle": "2024-10-25T04:39:56.423807Z",
          "shell.execute_reply.started": "2024-10-25T04:39:56.418584Z",
          "shell.execute_reply": "2024-10-25T04:39:56.42275Z"
        },
        "trusted": true,
        "id": "1uRYiCKOL4zd"
      },
      "execution_count": null,
      "outputs": []
    },
    {
      "cell_type": "markdown",
      "source": [
        "### Block 3: Dataset Class for Skip-Gram Model\n",
        "This block defines the `SkipGramDataset` class, which inherits from `torch.utils.data.Dataset`. It provides methods to retrieve the number of training pairs and to access individual pairs by index. This class will be used to create a dataset for training the Skip-Gram model.\n"
      ],
      "metadata": {
        "id": "zwN4ovSzL4zd"
      }
    },
    {
      "cell_type": "code",
      "source": [
        "class SkipGramDataset(Dataset):\n",
        "    def __init__(self, pairs):\n",
        "        self.pairs = pairs\n",
        "\n",
        "    def __len__(self):\n",
        "        return len(self.pairs)\n",
        "\n",
        "    def __getitem__(self, idx):\n",
        "        return self.pairs[idx]"
      ],
      "metadata": {
        "execution": {
          "iopub.status.busy": "2024-10-25T04:39:56.7715Z",
          "iopub.execute_input": "2024-10-25T04:39:56.772242Z",
          "iopub.status.idle": "2024-10-25T04:39:56.77723Z",
          "shell.execute_reply.started": "2024-10-25T04:39:56.772202Z",
          "shell.execute_reply": "2024-10-25T04:39:56.776348Z"
        },
        "trusted": true,
        "id": "XrDxwCH8L4zd"
      },
      "execution_count": null,
      "outputs": []
    },
    {
      "cell_type": "markdown",
      "source": [
        "### Block 4: Skip-Gram Model Definition\n",
        "This block defines the `SkipGramModel` class, which inherits from `nn.Module`. The model consists of two embedding layers (for target and context words) and uses a log-sigmoid function for computing scores. The `forward` method computes the positive and negative scores and calculates the total loss based on these scores, which will be used for training the model."
      ],
      "metadata": {
        "id": "TTMRmbAeL4zn"
      }
    },
    {
      "cell_type": "code",
      "source": [
        "class SkipGramModel(nn.Module):\n",
        "    def __init__(self, vocab_sz, embed_size):\n",
        "        super(SkipGramModel, self).__init__()\n",
        "        self.target_embedding = nn.Embedding(vocab_sz, embed_size)\n",
        "        self.context_embedding = nn.Embedding(vocab_sz, embed_size)\n",
        "        self.log_sigmoid = nn.LogSigmoid()\n",
        "\n",
        "    def forward(self, target_word, context_word, neg_samples):\n",
        "        target_embed = self.target_embedding(target_word)\n",
        "        context_embed = self.context_embedding(context_word)\n",
        "        negative_embed = self.context_embedding(neg_samples)\n",
        "\n",
        "        # Positive score\n",
        "        pos_score = self.log_sigmoid(torch.sum(target_embed * context_embed, dim=1))\n",
        "        # Negative score\n",
        "        neg_score = self.log_sigmoid(-torch.bmm(negative_embed, target_embed.unsqueeze(2)).squeeze(2)).sum(1)\n",
        "\n",
        "        # Loss calculation\n",
        "        total_loss = - (pos_score + neg_score).mean()\n",
        "        return total_loss"
      ],
      "metadata": {
        "execution": {
          "iopub.status.busy": "2024-10-25T04:39:57.211836Z",
          "iopub.execute_input": "2024-10-25T04:39:57.212667Z",
          "iopub.status.idle": "2024-10-25T04:39:57.220041Z",
          "shell.execute_reply.started": "2024-10-25T04:39:57.21263Z",
          "shell.execute_reply": "2024-10-25T04:39:57.218982Z"
        },
        "trusted": true,
        "id": "UteI64JtL4zo"
      },
      "execution_count": null,
      "outputs": []
    },
    {
      "cell_type": "markdown",
      "source": [
        "### Block 5 Preparing Data for Training\n",
        "This block prepares the data for training. It tokenizes the filtered sentences to obtain individual words and their mappings, builds training pairs, and creates a dataset using the `SkipGramDataset` class. A `DataLoader` is used to enable batch processing."
      ],
      "metadata": {
        "id": "ncJ0GRaQL4zp"
      }
    },
    {
      "cell_type": "code",
      "source": [
        "all_words, word_to_id, id_to_word = tokenize_corpus(vocab_dict)\n",
        "train_pairs = build_training_pairs(all_words, word_to_id, context_window)\n",
        "\n",
        "skipgram_dataset = SkipGramDataset(train_pairs)\n",
        "data_loader = DataLoader(skipgram_dataset, batch_size=batch_sz, shuffle=True)\n",
        "\n",
        "vocab_sz = len(word_to_id)\n",
        "\n",
        "device = torch.device('cuda' if torch.cuda.is_available() else 'cpu')\n",
        "\n",
        "model = SkipGramModel(vocab_sz, embed_size).to(device)\n",
        "optimizer = optim.SGD(model.parameters(), lr=lr_rate)"
      ],
      "metadata": {
        "execution": {
          "iopub.status.busy": "2024-10-25T04:39:57.617919Z",
          "iopub.execute_input": "2024-10-25T04:39:57.618849Z",
          "iopub.status.idle": "2024-10-25T04:39:57.700476Z",
          "shell.execute_reply.started": "2024-10-25T04:39:57.618807Z",
          "shell.execute_reply": "2024-10-25T04:39:57.699522Z"
        },
        "trusted": true,
        "id": "0FIB68i6L4zp"
      },
      "execution_count": null,
      "outputs": []
    },
    {
      "cell_type": "markdown",
      "source": [
        "### Block 6: Training Loop\n",
        "This block contains the main training loop for the Skip-Gram model. It iterates over the specified number of epochs, processing each batch of training pairs. For each target-context pair, it generates negative samples, computes the loss using the model, and performs backpropagation to update the model parameters."
      ],
      "metadata": {
        "id": "aC40uL7ZL4zt"
      }
    },
    {
      "cell_type": "code",
      "source": [
        "losses = []\n",
        "length = len(data_loader)\n",
        "for epoch in range(epoch_count):\n",
        "    epoch_loss = 0\n",
        "    for target, context in data_loader:\n",
        "        target = target.to(device)\n",
        "        context = context.to(device)\n",
        "        neg_samples = []\n",
        "\n",
        "        for t_val in target:\n",
        "            neg_samples.append(generate_negative_samples(t_val.item(), neg_sample_count, vocab_sz))\n",
        "\n",
        "        neg_samples_tensor = torch.LongTensor(neg_samples).to(device)\n",
        "\n",
        "        optimizer.zero_grad()\n",
        "        loss = model(target, context, neg_samples_tensor)\n",
        "        loss.backward()\n",
        "        optimizer.step()\n",
        "\n",
        "        epoch_loss += loss.item()\n",
        "    losses.append(epoch_loss/length)\n",
        "    avg_loss = epoch_loss / length  # Average loss for the epoch\n",
        "    print(f'Epoch [{epoch + 1}/{epoch_count}], Loss: {avg_loss:.4f}')"
      ],
      "metadata": {
        "execution": {
          "iopub.status.busy": "2024-10-25T04:39:58.01218Z",
          "iopub.execute_input": "2024-10-25T04:39:58.012888Z",
          "iopub.status.idle": "2024-10-25T04:53:06.303995Z",
          "shell.execute_reply.started": "2024-10-25T04:39:58.012846Z",
          "shell.execute_reply": "2024-10-25T04:53:06.302931Z"
        },
        "trusted": true,
        "collapsed": true,
        "id": "Q4wPf2GeL4zt",
        "outputId": "8b381afb-5d3c-4e5a-c90b-8863c655acaa"
      },
      "execution_count": null,
      "outputs": [
        {
          "name": "stdout",
          "text": "Epoch [1/200], Loss: 29.5812\nEpoch [2/200], Loss: 29.0020\nEpoch [3/200], Loss: 28.4896\nEpoch [4/200], Loss: 28.1041\nEpoch [5/200], Loss: 27.5860\nEpoch [6/200], Loss: 27.0927\nEpoch [7/200], Loss: 26.7898\nEpoch [8/200], Loss: 26.5394\nEpoch [9/200], Loss: 26.0492\nEpoch [10/200], Loss: 25.7506\nEpoch [11/200], Loss: 25.4564\nEpoch [12/200], Loss: 25.0179\nEpoch [13/200], Loss: 24.7414\nEpoch [14/200], Loss: 24.5923\nEpoch [15/200], Loss: 24.4305\nEpoch [16/200], Loss: 24.0946\nEpoch [17/200], Loss: 24.0080\nEpoch [18/200], Loss: 23.6779\nEpoch [19/200], Loss: 23.6290\nEpoch [20/200], Loss: 23.5076\nEpoch [21/200], Loss: 23.3245\nEpoch [22/200], Loss: 23.1157\nEpoch [23/200], Loss: 22.9841\nEpoch [24/200], Loss: 22.6680\nEpoch [25/200], Loss: 22.7894\nEpoch [26/200], Loss: 22.6013\nEpoch [27/200], Loss: 22.5444\nEpoch [28/200], Loss: 22.4081\nEpoch [29/200], Loss: 22.2561\nEpoch [30/200], Loss: 22.2112\nEpoch [31/200], Loss: 22.0862\nEpoch [32/200], Loss: 21.9233\nEpoch [33/200], Loss: 21.9268\nEpoch [34/200], Loss: 21.8006\nEpoch [35/200], Loss: 21.6910\nEpoch [36/200], Loss: 21.6450\nEpoch [37/200], Loss: 21.5976\nEpoch [38/200], Loss: 21.3969\nEpoch [39/200], Loss: 21.3297\nEpoch [40/200], Loss: 21.2311\nEpoch [41/200], Loss: 21.2976\nEpoch [42/200], Loss: 21.1924\nEpoch [43/200], Loss: 21.0164\nEpoch [44/200], Loss: 21.0408\nEpoch [45/200], Loss: 20.8816\nEpoch [46/200], Loss: 20.7159\nEpoch [47/200], Loss: 20.6508\nEpoch [48/200], Loss: 20.5238\nEpoch [49/200], Loss: 20.5816\nEpoch [50/200], Loss: 20.4400\nEpoch [51/200], Loss: 20.4349\nEpoch [52/200], Loss: 20.3217\nEpoch [53/200], Loss: 20.1208\nEpoch [54/200], Loss: 20.1017\nEpoch [55/200], Loss: 20.0971\nEpoch [56/200], Loss: 19.9650\nEpoch [57/200], Loss: 19.8964\nEpoch [58/200], Loss: 19.7820\nEpoch [59/200], Loss: 19.6677\nEpoch [60/200], Loss: 19.5400\nEpoch [61/200], Loss: 19.4387\nEpoch [62/200], Loss: 19.3797\nEpoch [63/200], Loss: 19.3860\nEpoch [64/200], Loss: 19.1211\nEpoch [65/200], Loss: 19.1755\nEpoch [66/200], Loss: 19.1348\nEpoch [67/200], Loss: 19.0179\nEpoch [68/200], Loss: 18.9163\nEpoch [69/200], Loss: 18.8320\nEpoch [70/200], Loss: 18.7068\nEpoch [71/200], Loss: 18.5814\nEpoch [72/200], Loss: 18.6028\nEpoch [73/200], Loss: 18.4033\nEpoch [74/200], Loss: 18.3078\nEpoch [75/200], Loss: 18.3767\nEpoch [76/200], Loss: 18.1022\nEpoch [77/200], Loss: 18.0437\nEpoch [78/200], Loss: 17.9761\nEpoch [79/200], Loss: 17.8774\nEpoch [80/200], Loss: 17.7007\nEpoch [81/200], Loss: 17.6331\nEpoch [82/200], Loss: 17.4932\nEpoch [83/200], Loss: 17.4780\nEpoch [84/200], Loss: 17.3292\nEpoch [85/200], Loss: 17.2328\nEpoch [86/200], Loss: 17.1246\nEpoch [87/200], Loss: 16.8936\nEpoch [88/200], Loss: 16.9029\nEpoch [89/200], Loss: 16.7495\nEpoch [90/200], Loss: 16.6115\nEpoch [91/200], Loss: 16.5365\nEpoch [92/200], Loss: 16.4460\nEpoch [93/200], Loss: 16.2097\nEpoch [94/200], Loss: 16.0484\nEpoch [95/200], Loss: 15.9598\nEpoch [96/200], Loss: 15.8357\nEpoch [97/200], Loss: 15.6336\nEpoch [98/200], Loss: 15.5343\nEpoch [99/200], Loss: 15.3647\nEpoch [100/200], Loss: 15.2113\nEpoch [101/200], Loss: 15.1250\nEpoch [102/200], Loss: 14.9325\nEpoch [103/200], Loss: 14.7506\nEpoch [104/200], Loss: 14.5276\nEpoch [105/200], Loss: 14.3879\nEpoch [106/200], Loss: 14.2569\nEpoch [107/200], Loss: 14.0760\nEpoch [108/200], Loss: 13.8746\nEpoch [109/200], Loss: 13.6234\nEpoch [110/200], Loss: 13.4800\nEpoch [111/200], Loss: 13.3022\nEpoch [112/200], Loss: 13.0472\nEpoch [113/200], Loss: 12.8800\nEpoch [114/200], Loss: 12.7630\nEpoch [115/200], Loss: 12.4691\nEpoch [116/200], Loss: 12.3284\nEpoch [117/200], Loss: 12.0891\nEpoch [118/200], Loss: 11.8099\nEpoch [119/200], Loss: 11.6614\nEpoch [120/200], Loss: 11.5141\nEpoch [121/200], Loss: 11.1748\nEpoch [122/200], Loss: 10.9944\nEpoch [123/200], Loss: 10.8282\nEpoch [124/200], Loss: 10.5634\nEpoch [125/200], Loss: 10.3391\nEpoch [126/200], Loss: 10.1347\nEpoch [127/200], Loss: 9.9195\nEpoch [128/200], Loss: 9.6108\nEpoch [129/200], Loss: 9.5141\nEpoch [130/200], Loss: 9.2021\nEpoch [131/200], Loss: 9.0612\nEpoch [132/200], Loss: 8.8351\nEpoch [133/200], Loss: 8.5982\nEpoch [134/200], Loss: 8.3884\nEpoch [135/200], Loss: 8.1873\nEpoch [136/200], Loss: 7.9525\nEpoch [137/200], Loss: 7.7623\nEpoch [138/200], Loss: 7.6128\nEpoch [139/200], Loss: 7.3648\nEpoch [140/200], Loss: 7.1049\nEpoch [141/200], Loss: 6.9550\nEpoch [142/200], Loss: 6.7803\nEpoch [143/200], Loss: 6.5581\nEpoch [144/200], Loss: 6.4030\nEpoch [145/200], Loss: 6.2810\nEpoch [146/200], Loss: 6.0879\nEpoch [147/200], Loss: 5.8505\nEpoch [148/200], Loss: 5.7060\nEpoch [149/200], Loss: 5.5287\nEpoch [150/200], Loss: 5.3664\nEpoch [151/200], Loss: 5.2090\nEpoch [152/200], Loss: 5.1049\nEpoch [153/200], Loss: 4.9199\nEpoch [154/200], Loss: 4.7612\nEpoch [155/200], Loss: 4.7011\nEpoch [156/200], Loss: 4.5514\nEpoch [157/200], Loss: 4.3847\nEpoch [158/200], Loss: 4.3006\nEpoch [159/200], Loss: 4.1638\nEpoch [160/200], Loss: 4.0205\nEpoch [161/200], Loss: 3.8779\nEpoch [162/200], Loss: 3.8176\nEpoch [163/200], Loss: 3.7239\nEpoch [164/200], Loss: 3.6559\nEpoch [165/200], Loss: 3.5579\nEpoch [166/200], Loss: 3.4334\nEpoch [167/200], Loss: 3.3228\nEpoch [168/200], Loss: 3.2544\nEpoch [169/200], Loss: 3.1424\nEpoch [170/200], Loss: 3.0842\nEpoch [171/200], Loss: 2.9884\nEpoch [172/200], Loss: 2.9303\nEpoch [173/200], Loss: 2.8371\nEpoch [174/200], Loss: 2.7884\nEpoch [175/200], Loss: 2.7367\nEpoch [176/200], Loss: 2.6602\nEpoch [177/200], Loss: 2.5906\nEpoch [178/200], Loss: 2.4782\nEpoch [179/200], Loss: 2.4592\nEpoch [180/200], Loss: 2.3759\nEpoch [181/200], Loss: 2.3152\nEpoch [182/200], Loss: 2.2816\nEpoch [183/200], Loss: 2.2028\nEpoch [184/200], Loss: 2.1356\nEpoch [185/200], Loss: 2.1186\nEpoch [186/200], Loss: 2.0587\nEpoch [187/200], Loss: 2.0510\nEpoch [188/200], Loss: 2.0028\nEpoch [189/200], Loss: 1.9244\nEpoch [190/200], Loss: 1.9041\nEpoch [191/200], Loss: 1.8750\nEpoch [192/200], Loss: 1.8339\nEpoch [193/200], Loss: 1.7625\nEpoch [194/200], Loss: 1.7262\nEpoch [195/200], Loss: 1.7002\nEpoch [196/200], Loss: 1.6673\nEpoch [197/200], Loss: 1.6538\nEpoch [198/200], Loss: 1.6121\nEpoch [199/200], Loss: 1.5805\nEpoch [200/200], Loss: 1.5333\n",
          "output_type": "stream"
        }
      ]
    },
    {
      "cell_type": "code",
      "source": [
        "# Plotting the loss curve\n",
        "plt.plot(losses)\n",
        "plt.xlabel('Iteration')\n",
        "plt.ylabel('Loss')\n",
        "plt.title('Training Loss Curve')\n",
        "plt.show()"
      ],
      "metadata": {
        "execution": {
          "iopub.status.busy": "2024-10-25T04:57:20.532042Z",
          "iopub.execute_input": "2024-10-25T04:57:20.532733Z",
          "iopub.status.idle": "2024-10-25T04:57:21.313894Z",
          "shell.execute_reply.started": "2024-10-25T04:57:20.532697Z",
          "shell.execute_reply": "2024-10-25T04:57:21.31297Z"
        },
        "trusted": true,
        "id": "kZRZjlU0L4zu",
        "outputId": "5c343745-55e5-4b4d-8db3-033a9b64c703"
      },
      "execution_count": null,
      "outputs": [
        {
          "output_type": "display_data",
          "data": {
            "text/plain": "<Figure size 640x480 with 1 Axes>",
            "image/png": "[encoded data removed]"
          },
          "metadata": {}
        }
      ]
    },
    {
      "cell_type": "markdown",
      "source": [
        "#### Testing the analogy\n",
        "- By cosine similarity"
      ],
      "metadata": {
        "id": "shK-x7n-L4zv"
      }
    },
    {
      "cell_type": "code",
      "source": [
        "from sklearn.metrics.pairwise import cosine_similarity\n",
        "\n",
        "def test_analogy_cosine(model, word_a, word_b, word_c):\n",
        "    # Get the embeddings for the words\n",
        "    vec_a = model.target_embedding.weight[word_to_id[word_a]].detach().cpu().numpy().reshape(1, -1)\n",
        "    vec_b = model.target_embedding.weight[word_to_id[word_b]].detach().cpu().numpy().reshape(1, -1)\n",
        "    vec_c = model.target_embedding.weight[word_to_id[word_c]].detach().cpu().numpy().reshape(1, -1)\n",
        "\n",
        "    # Calculate the analogy vector\n",
        "    analogy_vector = vec_b - vec_a + vec_c\n",
        "\n",
        "    closest_word = None\n",
        "    closest_similarity = -1\n",
        "\n",
        "    for word, idx in word_to_id.items():\n",
        "        vec_d = model.target_embedding.weight[idx].detach().cpu().numpy().reshape(1, -1)\n",
        "\n",
        "        # Calculate cosine similarity\n",
        "        similarity = cosine_similarity(analogy_vector, vec_d)[0][0]\n",
        "\n",
        "        if similarity > closest_similarity and word not in [word_a, word_b, word_c]:\n",
        "            closest_similarity = similarity\n",
        "            closest_word = word\n",
        "\n",
        "    return closest_word,closest_similarity"
      ],
      "metadata": {
        "execution": {
          "iopub.status.busy": "2024-10-25T04:33:31.022801Z",
          "iopub.status.idle": "2024-10-25T04:33:31.023182Z",
          "shell.execute_reply.started": "2024-10-25T04:33:31.023008Z",
          "shell.execute_reply": "2024-10-25T04:33:31.023026Z"
        },
        "trusted": true,
        "id": "D2tfLpKgL4zv"
      },
      "execution_count": null,
      "outputs": []
    },
    {
      "cell_type": "code",
      "source": [
        "# Test the analogy for COVID-19 related word pairs\n",
        "analogies = [\n",
        "    (\"healthcare\", \"nurse\", \"doctor\"),\n",
        "    (\"remote\", \"work\", \"online\"),\n",
        "    (\"social\", \"distancing\", \"quarantine\"),\n",
        "    (\"pandemic\", \"outbreak\", \"epidemic\"),\n",
        "]\n",
        "\n",
        "def test_multiple_analogies(model, analogies):\n",
        "    for word_a, word_b, word_c in analogies:\n",
        "        predicted_word_d, closest_distance = test_analogy_cosine(model, word_a, word_b, word_c)\n",
        "        print(f\"{word_a} : {word_b} :: {word_c} : {predicted_word_d} (similarity score: {closest_distance:.4f})\")\n",
        "\n",
        "test_multiple_analogies(model, analogies)"
      ],
      "metadata": {
        "execution": {
          "iopub.status.busy": "2024-10-25T04:53:06.588507Z",
          "iopub.execute_input": "2024-10-25T04:53:06.588879Z",
          "iopub.status.idle": "2024-10-25T04:53:06.594388Z",
          "shell.execute_reply.started": "2024-10-25T04:53:06.588835Z",
          "shell.execute_reply": "2024-10-25T04:53:06.593384Z"
        },
        "trusted": true,
        "id": "C0qm0Xs1L4zv",
        "outputId": "c5ec1a8d-20e1-447a-91d7-2894718271f5"
      },
      "execution_count": null,
      "outputs": [
        {
          "name": "stdout",
          "text": "\nhealthcare : nurse :: doctor : physician (similarity score: 0.7910)\nremote : work :: online : meetings (similarity score: 0.7583)\nsocial : distancing :: quarantine : isolation (similarity score: 0.7441)\npandemic : outbreak :: epidemic : disease (similarity score: 0.739)\n\n",
          "output_type": "stream"
        }
      ]
    },
    {
      "cell_type": "markdown",
      "source": [
        "## Assignment - 05"
      ],
      "metadata": {
        "id": "a19mB5kRL4zw"
      }
    },
    {
      "cell_type": "markdown",
      "source": [
        "#### Step 1: Find similar words Using $W_{in}$ (target_embeddings.weight)"
      ],
      "metadata": {
        "id": "a_9b0_NPL4zw"
      }
    },
    {
      "cell_type": "code",
      "source": [
        "def for_W_in(model, word, top_n=5):\n",
        "    word_vector = model.target_embedding.weight[word_to_id[word]].detach().cpu().numpy().reshape(1, -1)\n",
        "    similar_words = []\n",
        "\n",
        "    for vocab_word, idx in word_to_id.items():\n",
        "        if vocab_word != word:\n",
        "            vocab_word_vector = model.target_embedding.weight[idx].detach().cpu().numpy().reshape(1, -1)\n",
        "            similarity = cosine_similarity(word_vector, vocab_word_vector)[0][0]\n",
        "            similar_words.append((vocab_word, similarity))\n",
        "\n",
        "    similar_words = sorted(similar_words, key=lambda x: x[1], reverse=True)[:top_n]\n",
        "\n",
        "    return similar_words\n",
        "\n",
        "similar_words = for_W_in(model, 'vaccine', top_n=6)\n",
        "print([similar_word[0] for similar_word in similar_words])"
      ],
      "metadata": {
        "execution": {
          "iopub.status.busy": "2024-10-25T05:07:49.171809Z",
          "iopub.execute_input": "2024-10-25T05:07:49.172476Z",
          "iopub.status.idle": "2024-10-25T05:07:49.17706Z",
          "shell.execute_reply.started": "2024-10-25T05:07:49.172438Z",
          "shell.execute_reply": "2024-10-25T05:07:49.176209Z"
        },
        "trusted": true,
        "id": "wQzNhbyTL4zx",
        "outputId": "3605cd66-a211-4032-c3e8-20624134f8ac"
      },
      "execution_count": null,
      "outputs": [
        {
          "name": "stdout",
          "text": "['dose','booster','immunization','treatment','infertility','achievable']\n",
          "output_type": "stream"
        }
      ]
    },
    {
      "cell_type": "markdown",
      "source": [
        "#### Step 2: Find similar words Using $W_{out}$ (context_embedding.weight)\n",
        "\n"
      ],
      "metadata": {
        "id": "yBaTM8sPL4zx"
      }
    },
    {
      "cell_type": "code",
      "source": [
        "def for_W_out(model, word, top_n=5):\n",
        "    word_vector = model.context_embedding.weight[word_to_id[word]].detach().cpu().numpy().reshape(1, -1)\n",
        "    similar_words = []\n",
        "\n",
        "    for vocab_word, idx in word_to_id.items():\n",
        "        if vocab_word != word:\n",
        "            vocab_word_vector = model.context_embedding.weight[idx].detach().cpu().numpy().reshape(1, -1)\n",
        "            similarity = cosine_similarity(word_vector, vocab_word_vector)[0][0]\n",
        "            similar_words.append((vocab_word, similarity))\n",
        "\n",
        "    similar_words = sorted(similar_words, key=lambda x: x[1], reverse=True)[:top_n]\n",
        "\n",
        "    return similar_words\n",
        "\n",
        "similar_words = for_W_out(model, 'vaccine', top_n=6)\n",
        "print([similar_word[0] for similar_word in similar_words])"
      ],
      "metadata": {
        "execution": {
          "iopub.status.busy": "2024-10-25T05:12:58.572331Z",
          "iopub.execute_input": "2024-10-25T05:12:58.572713Z",
          "iopub.status.idle": "2024-10-25T05:12:58.577733Z",
          "shell.execute_reply.started": "2024-10-25T05:12:58.572677Z",
          "shell.execute_reply": "2024-10-25T05:12:58.576806Z"
        },
        "trusted": true,
        "id": "ju2BuBllL4zy",
        "outputId": "fe80e691-50c4-4be5-dea8-8dfc097f9115"
      },
      "execution_count": null,
      "outputs": [
        {
          "name": "stdout",
          "text": "['covid','clinician','protection','pfizer','distribution','fatality']\n",
          "output_type": "stream"
        }
      ]
    },
    {
      "cell_type": "markdown",
      "source": [
        "#### Step 3: Find Similar Words Using Combined\n",
        "##### Combine $W_{in}$ and $W_{out}$ : We will average the embeddings from both matrices"
      ],
      "metadata": {
        "id": "y-yDXwYnL4zy"
      }
    },
    {
      "cell_type": "code",
      "source": [
        "def for_W_in_W_out_avg(model, word, top_n=5):\n",
        "    # Get vectors from W_in and W_out and average them\n",
        "    word_vector_in = model.target_embedding.weight[word_to_id[word]].detach().cpu().numpy()\n",
        "    word_vector_out = model.context_embedding.weight[word_to_id[word]].detach().cpu().numpy()\n",
        "    word_vector_avg = (word_vector_in + word_vector_out) / 2.0\n",
        "    word_vector_avg = word_vector_avg.reshape(1, -1)\n",
        "\n",
        "    similar_words = []\n",
        "\n",
        "    for vocab_word, idx in word_to_id.items():\n",
        "        if vocab_word != word:\n",
        "            vocab_word_vector_in = model.target_embedding.weight[idx].detach().cpu().numpy()\n",
        "            vocab_word_vector_out = model.context_embedding.weight[idx].detach().cpu().numpy()\n",
        "            vocab_word_vector_avg = (vocab_word_vector_in + vocab_word_vector_out) / 2.0 # average the vectors\n",
        "            vocab_word_vector_avg = vocab_word_vector_avg.reshape(1, -1)\n",
        "\n",
        "            similarity = cosine_similarity(word_vector_avg, vocab_word_vector_avg)[0][0]\n",
        "            similar_words.append((vocab_word, similarity))\n",
        "\n",
        "    # Sort by similarity\n",
        "    similar_words = sorted(similar_words, key=lambda x: x[1], reverse=True)[:top_n]\n",
        "\n",
        "    return similar_words\n",
        "\n",
        "similar_words_avg = for_W_in_W_out_avg(model, 'vaccine', top_n=7)\n",
        "print([similar_word[0] for similar_word in similar_words])"
      ],
      "metadata": {
        "execution": {
          "iopub.status.busy": "2024-10-25T05:19:45.571887Z",
          "iopub.execute_input": "2024-10-25T05:19:45.572775Z",
          "iopub.status.idle": "2024-10-25T05:19:45.577374Z",
          "shell.execute_reply.started": "2024-10-25T05:19:45.572736Z",
          "shell.execute_reply": "2024-10-25T05:19:45.576455Z"
        },
        "trusted": true,
        "id": "_NPvl8gIL4zy",
        "outputId": "4ffc2436-a22f-4ba9-e62b-9276236cfadf"
      },
      "execution_count": null,
      "outputs": [
        {
          "name": "stdout",
          "text": "['dose','covid','booster','achievable','distribution','choice','fatality']\n",
          "output_type": "stream"
        }
      ]
    },
    {
      "cell_type": "markdown",
      "source": [
        "#### Step 4: Compare the Results\n",
        "##### In general :\n",
        "- $W_{in}$ (Input Embeddings) focus on representing the word in the context of predicting other words (as a target).\n",
        "- $W_{out}$ (Output Embeddings) focus on representing the word in the context of being predicted by other words (as a context word).\n",
        "- In Other words,while $W_{in}$ captures how a word is used to predict surrounding words, $W_{out}$ captures how the surrounding words are used to predict the word.\n",
        "- Combining $W_{in}$ and $W_{out}$ (through concatenation or averaging) creates a more holistic representation of the word. This embedding takes into account both how the word predicts and is predicted by its context.\n",
        "\n",
        "##### With respect to the results :\n",
        "- $W_{in}$ embeddings highlight how \"vaccine\" predicts surrounding words, focusing on grammatical and syntactic similarity. Similar terms include `dose`,`booster`,`immunization` etc.\n",
        "- $W_{out}$ embeddings capture how \"vaccine\" is predicted by surrounding words, emphasizing associative and thematic context. Similar words include `covid`,`clinician`,`protection` etc.\n",
        "- Combining $W_{in}$ and $W_{out}$ captures both contextual and thematic connections for \"vaccine,\" merging functional terms like `dose` and broader associations like `covid` and `distribution`. This gives a more nuanced understanding of related words."
      ],
      "metadata": {
        "id": "1ltzjdLWL4z0"
      }
    },
    {
      "cell_type": "markdown",
      "source": [
        "#### Step 5: Complexities of Skip-Gram Model we have implemented\n",
        "\n",
        "1. **Building Training Pairs**:\n",
        "   - For each word, the algorithm considers a context window of size $ C $, generating $ 2C $ training pairs.\n",
        "   - **Complexity**: $ O(T \\cdot C)\\ $, where $ T $ is the number of words in the text corpus.\n",
        "\n",
        "2. **Generating Negative Samples**:\n",
        "   - For each target word, $ K $ negative samples are generated, ensuring they are distinct.\n",
        "   - **Complexity**: $ O(K) $ per word.\n",
        "\n",
        "3. **Forward Pass**:\n",
        "   - For each training pair, the forward pass involves embedding lookups and calculating dot products.\n",
        "   - **Complexity**: $ O((2C + K) \\cdot N) $, where $ N $ is the embedding dimension.\n",
        "\n",
        "4. **Training Loop**:\n",
        "   - During each epoch, for each training pair, the model performs forward and backward passes.\n",
        "   - **Total Complexity**: $ O(E \\cdot T \\cdot (2C + K) \\cdot N) $, where $ E $ is the number of epochs.\n",
        "\n",
        "#### Time Complexity of Analogy Task:\n",
        "\n",
        "- **Vector Arithmetic**: $ O(N) $ (where $ N $ is the dimensionality of the embeddings).\n",
        "- **Cosine Similarity**: $ O(V \\cdot N) $ (for nearest neighbor search, where $ V $ is the vocabulary size and $ N $ is the dimensionality).\n",
        "\n",
        "Thus, the overall time complexity of the analogy task is $ O(V \\cdot N) $ , dominated by the cosine similarity calculation.\n"
      ],
      "metadata": {
        "id": "DX-Sm-W2L4z1"
      }
    }
  ]
}